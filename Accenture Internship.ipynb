{
 "cells": [
  {
   "cell_type": "markdown",
   "id": "4b3414bf",
   "metadata": {},
   "source": [
    "# Objective"
   ]
  },
  {
   "cell_type": "markdown",
   "id": "876ad991",
   "metadata": {},
   "source": [
    "**Analysis of sample data sets with visualizations to understand the popularity of different content categories.**"
   ]
  },
  {
   "cell_type": "markdown",
   "id": "e4f6b3b6",
   "metadata": {
    "heading_collapsed": true
   },
   "source": [
    "## Data cleaning - steps to follow"
   ]
  },
  {
   "cell_type": "markdown",
   "id": "94bdb831",
   "metadata": {
    "ExecuteTime": {
     "end_time": "2023-01-11T16:21:35.978116Z",
     "start_time": "2023-01-11T16:21:35.960464Z"
    },
    "hidden": true
   },
   "source": [
    "- removing rows that have values which are missing,\n",
    "- changing the data type of some values within a column, and\n",
    "- removing columns which are not relevant to this task"
   ]
  },
  {
   "cell_type": "markdown",
   "id": "6de909ff",
   "metadata": {},
   "source": [
    "## Data Modelling"
   ]
  },
  {
   "cell_type": "markdown",
   "id": "05dccbc5",
   "metadata": {},
   "source": [
    "### Create a final data set by merging your three tables together"
   ]
  },
  {
   "cell_type": "markdown",
   "id": "4445d0f8",
   "metadata": {},
   "source": [
    "We recommend using the Reaction table as your base table, then first join the relevant columns from your Content data set, and then the Reaction Types data set."
   ]
  },
  {
   "cell_type": "markdown",
   "id": "16f067ea",
   "metadata": {},
   "source": [
    "### Figure out the Top 5 performing categories"
   ]
  },
  {
   "cell_type": "markdown",
   "id": "154a294f",
   "metadata": {
    "ExecuteTime": {
     "end_time": "2023-01-11T17:33:14.693611Z",
     "start_time": "2023-01-11T17:33:14.669070Z"
    }
   },
   "source": [
    "Add up the total scores for each category."
   ]
  },
  {
   "cell_type": "markdown",
   "id": "aecd93d6",
   "metadata": {},
   "source": [
    "### The end result"
   ]
  },
  {
   "cell_type": "markdown",
   "id": "eb3edac0",
   "metadata": {
    "ExecuteTime": {
     "end_time": "2023-01-11T17:34:03.378362Z",
     "start_time": "2023-01-11T17:34:03.364286Z"
    }
   },
   "source": [
    "This should be one spreadsheet which contains:\n",
    "\n",
    "- A cleaned dataset\n",
    "- The top 5 categories"
   ]
  },
  {
   "cell_type": "markdown",
   "id": "f9052fb9",
   "metadata": {
    "heading_collapsed": true
   },
   "source": [
    "## Definitions"
   ]
  },
  {
   "cell_type": "markdown",
   "id": "c805ac35",
   "metadata": {
    "hidden": true
   },
   "source": [
    "**Reaction**\n",
    "- <u>Content ID</u>: Unique ID of a piece of content that was uploaded \n",
    "- <u>User ID</u>: Unique ID of a user that exists in the User table who reacted to this piece of content\n",
    "- <u>Type</u>: A string detailing the type of reaction this user gave\n",
    "- <u>Datetime</u>: The date and time of this reaction\n",
    "\n",
    "**ReactionTypes**\n",
    "- <u>Type</u>: A string detailing the type of reaction this user gave\n",
    "- <u>Sentiment</u>: A string detailing whether this type of reaction is considered as positive, negative or neutral\n",
    "- <u>Score</u>: This is a number calculated by Social Buzz that quantifies how “popular” each reaction is. A reaction type with a higher scoreshould be considered as a more popular reaction\n",
    "\n",
    "**Content**\n",
    "- <u>ID</u>: Unique ID of the content that was uploaded (automatically generated)\n",
    "- <u>User ID</u>: Unique ID of a user that exists in the User table\n",
    "- <u>Type</u>: A string detailing the type of content that was uploaded\n",
    "- <u>Category</u>: A string detailing the category that this content is relevant to\n",
    "- <u>URL</u>: Link to the location where this content is stored"
   ]
  },
  {
   "cell_type": "markdown",
   "id": "d13ce8f7",
   "metadata": {
    "heading_collapsed": true
   },
   "source": [
    "# Load Libraries "
   ]
  },
  {
   "cell_type": "code",
   "execution_count": 24,
   "id": "2742bbf5",
   "metadata": {
    "ExecuteTime": {
     "end_time": "2023-01-11T16:37:20.829816Z",
     "start_time": "2023-01-11T16:37:20.816757Z"
    },
    "hidden": true
   },
   "outputs": [],
   "source": [
    "import numpy as np\n",
    "import pandas as pd"
   ]
  },
  {
   "cell_type": "markdown",
   "id": "b70f5872",
   "metadata": {
    "heading_collapsed": true
   },
   "source": [
    "# Load csv files"
   ]
  },
  {
   "cell_type": "code",
   "execution_count": 49,
   "id": "e5d9a58d",
   "metadata": {
    "ExecuteTime": {
     "end_time": "2023-01-11T16:57:48.068279Z",
     "start_time": "2023-01-11T16:57:47.984127Z"
    },
    "hidden": true
   },
   "outputs": [],
   "source": [
    "path_to_file = 'Reactions.csv'\n",
    "reactions_df = pd.read_csv(path_to_file)"
   ]
  },
  {
   "cell_type": "code",
   "execution_count": 50,
   "id": "8f1671e4",
   "metadata": {
    "ExecuteTime": {
     "end_time": "2023-01-11T16:57:48.221744Z",
     "start_time": "2023-01-11T16:57:48.197972Z"
    },
    "hidden": true
   },
   "outputs": [],
   "source": [
    "path_to_file = 'ReactionTypes.csv'\n",
    "reaction_types_df = pd.read_csv(path_to_file)"
   ]
  },
  {
   "cell_type": "code",
   "execution_count": 51,
   "id": "b3ba8af1",
   "metadata": {
    "ExecuteTime": {
     "end_time": "2023-01-11T16:57:48.397896Z",
     "start_time": "2023-01-11T16:57:48.374175Z"
    },
    "hidden": true
   },
   "outputs": [],
   "source": [
    "path_to_file = 'Content.csv'\n",
    "content_df = pd.read_csv(path_to_file)"
   ]
  },
  {
   "cell_type": "markdown",
   "id": "4528f370",
   "metadata": {
    "heading_collapsed": true
   },
   "source": [
    "# Exploratory Data Analysis"
   ]
  },
  {
   "cell_type": "code",
   "execution_count": 52,
   "id": "cebc2679",
   "metadata": {
    "ExecuteTime": {
     "end_time": "2023-01-11T16:57:48.863752Z",
     "start_time": "2023-01-11T16:57:48.841842Z"
    },
    "hidden": true
   },
   "outputs": [
    {
     "data": {
      "text/html": [
       "<div>\n",
       "<style scoped>\n",
       "    .dataframe tbody tr th:only-of-type {\n",
       "        vertical-align: middle;\n",
       "    }\n",
       "\n",
       "    .dataframe tbody tr th {\n",
       "        vertical-align: top;\n",
       "    }\n",
       "\n",
       "    .dataframe thead th {\n",
       "        text-align: right;\n",
       "    }\n",
       "</style>\n",
       "<table border=\"1\" class=\"dataframe\">\n",
       "  <thead>\n",
       "    <tr style=\"text-align: right;\">\n",
       "      <th></th>\n",
       "      <th>Unnamed: 0</th>\n",
       "      <th>Content ID</th>\n",
       "      <th>User ID</th>\n",
       "      <th>Type</th>\n",
       "      <th>Datetime</th>\n",
       "    </tr>\n",
       "  </thead>\n",
       "  <tbody>\n",
       "    <tr>\n",
       "      <th>0</th>\n",
       "      <td>0</td>\n",
       "      <td>97522e57-d9ab-4bd6-97bf-c24d952602d2</td>\n",
       "      <td>NaN</td>\n",
       "      <td>NaN</td>\n",
       "      <td>2021-04-22 15:17:15</td>\n",
       "    </tr>\n",
       "    <tr>\n",
       "      <th>1</th>\n",
       "      <td>1</td>\n",
       "      <td>97522e57-d9ab-4bd6-97bf-c24d952602d2</td>\n",
       "      <td>5d454588-283d-459d-915d-c48a2cb4c27f</td>\n",
       "      <td>disgust</td>\n",
       "      <td>2020-11-07 09:43:50</td>\n",
       "    </tr>\n",
       "    <tr>\n",
       "      <th>2</th>\n",
       "      <td>2</td>\n",
       "      <td>97522e57-d9ab-4bd6-97bf-c24d952602d2</td>\n",
       "      <td>92b87fa5-f271-43e0-af66-84fac21052e6</td>\n",
       "      <td>dislike</td>\n",
       "      <td>2021-06-17 12:22:51</td>\n",
       "    </tr>\n",
       "    <tr>\n",
       "      <th>3</th>\n",
       "      <td>3</td>\n",
       "      <td>97522e57-d9ab-4bd6-97bf-c24d952602d2</td>\n",
       "      <td>163daa38-8b77-48c9-9af6-37a6c1447ac2</td>\n",
       "      <td>scared</td>\n",
       "      <td>2021-04-18 05:13:58</td>\n",
       "    </tr>\n",
       "    <tr>\n",
       "      <th>4</th>\n",
       "      <td>4</td>\n",
       "      <td>97522e57-d9ab-4bd6-97bf-c24d952602d2</td>\n",
       "      <td>34e8add9-0206-47fd-a501-037b994650a2</td>\n",
       "      <td>disgust</td>\n",
       "      <td>2021-01-06 19:13:01</td>\n",
       "    </tr>\n",
       "  </tbody>\n",
       "</table>\n",
       "</div>"
      ],
      "text/plain": [
       "   Unnamed: 0                            Content ID  \\\n",
       "0           0  97522e57-d9ab-4bd6-97bf-c24d952602d2   \n",
       "1           1  97522e57-d9ab-4bd6-97bf-c24d952602d2   \n",
       "2           2  97522e57-d9ab-4bd6-97bf-c24d952602d2   \n",
       "3           3  97522e57-d9ab-4bd6-97bf-c24d952602d2   \n",
       "4           4  97522e57-d9ab-4bd6-97bf-c24d952602d2   \n",
       "\n",
       "                                User ID     Type             Datetime  \n",
       "0                                   NaN      NaN  2021-04-22 15:17:15  \n",
       "1  5d454588-283d-459d-915d-c48a2cb4c27f  disgust  2020-11-07 09:43:50  \n",
       "2  92b87fa5-f271-43e0-af66-84fac21052e6  dislike  2021-06-17 12:22:51  \n",
       "3  163daa38-8b77-48c9-9af6-37a6c1447ac2   scared  2021-04-18 05:13:58  \n",
       "4  34e8add9-0206-47fd-a501-037b994650a2  disgust  2021-01-06 19:13:01  "
      ]
     },
     "execution_count": 52,
     "metadata": {},
     "output_type": "execute_result"
    }
   ],
   "source": [
    "reactions_df.head()"
   ]
  },
  {
   "cell_type": "code",
   "execution_count": 53,
   "id": "cfd391d7",
   "metadata": {
    "ExecuteTime": {
     "end_time": "2023-01-11T16:57:49.049896Z",
     "start_time": "2023-01-11T16:57:49.023724Z"
    },
    "hidden": true
   },
   "outputs": [
    {
     "name": "stdout",
     "output_type": "stream",
     "text": [
      "<class 'pandas.core.frame.DataFrame'>\n",
      "RangeIndex: 25553 entries, 0 to 25552\n",
      "Data columns (total 5 columns):\n",
      " #   Column      Non-Null Count  Dtype \n",
      "---  ------      --------------  ----- \n",
      " 0   Unnamed: 0  25553 non-null  int64 \n",
      " 1   Content ID  25553 non-null  object\n",
      " 2   User ID     22534 non-null  object\n",
      " 3   Type        24573 non-null  object\n",
      " 4   Datetime    25553 non-null  object\n",
      "dtypes: int64(1), object(4)\n",
      "memory usage: 998.3+ KB\n"
     ]
    }
   ],
   "source": [
    "reactions_df.info()"
   ]
  },
  {
   "cell_type": "code",
   "execution_count": 54,
   "id": "4fd45845",
   "metadata": {
    "ExecuteTime": {
     "end_time": "2023-01-11T16:57:49.212803Z",
     "start_time": "2023-01-11T16:57:49.185373Z"
    },
    "hidden": true
   },
   "outputs": [
    {
     "data": {
      "text/html": [
       "<div>\n",
       "<style scoped>\n",
       "    .dataframe tbody tr th:only-of-type {\n",
       "        vertical-align: middle;\n",
       "    }\n",
       "\n",
       "    .dataframe tbody tr th {\n",
       "        vertical-align: top;\n",
       "    }\n",
       "\n",
       "    .dataframe thead th {\n",
       "        text-align: right;\n",
       "    }\n",
       "</style>\n",
       "<table border=\"1\" class=\"dataframe\">\n",
       "  <thead>\n",
       "    <tr style=\"text-align: right;\">\n",
       "      <th></th>\n",
       "      <th>Unnamed: 0</th>\n",
       "      <th>Type</th>\n",
       "      <th>Sentiment</th>\n",
       "      <th>Score</th>\n",
       "    </tr>\n",
       "  </thead>\n",
       "  <tbody>\n",
       "    <tr>\n",
       "      <th>0</th>\n",
       "      <td>0</td>\n",
       "      <td>heart</td>\n",
       "      <td>positive</td>\n",
       "      <td>60</td>\n",
       "    </tr>\n",
       "    <tr>\n",
       "      <th>1</th>\n",
       "      <td>1</td>\n",
       "      <td>want</td>\n",
       "      <td>positive</td>\n",
       "      <td>70</td>\n",
       "    </tr>\n",
       "    <tr>\n",
       "      <th>2</th>\n",
       "      <td>2</td>\n",
       "      <td>disgust</td>\n",
       "      <td>negative</td>\n",
       "      <td>0</td>\n",
       "    </tr>\n",
       "    <tr>\n",
       "      <th>3</th>\n",
       "      <td>3</td>\n",
       "      <td>hate</td>\n",
       "      <td>negative</td>\n",
       "      <td>5</td>\n",
       "    </tr>\n",
       "    <tr>\n",
       "      <th>4</th>\n",
       "      <td>4</td>\n",
       "      <td>interested</td>\n",
       "      <td>positive</td>\n",
       "      <td>30</td>\n",
       "    </tr>\n",
       "  </tbody>\n",
       "</table>\n",
       "</div>"
      ],
      "text/plain": [
       "   Unnamed: 0        Type Sentiment  Score\n",
       "0           0       heart  positive     60\n",
       "1           1        want  positive     70\n",
       "2           2     disgust  negative      0\n",
       "3           3        hate  negative      5\n",
       "4           4  interested  positive     30"
      ]
     },
     "execution_count": 54,
     "metadata": {},
     "output_type": "execute_result"
    }
   ],
   "source": [
    "reaction_types_df.head()"
   ]
  },
  {
   "cell_type": "code",
   "execution_count": 55,
   "id": "5831bfbe",
   "metadata": {
    "ExecuteTime": {
     "end_time": "2023-01-11T16:57:49.381113Z",
     "start_time": "2023-01-11T16:57:49.352720Z"
    },
    "hidden": true
   },
   "outputs": [
    {
     "name": "stdout",
     "output_type": "stream",
     "text": [
      "<class 'pandas.core.frame.DataFrame'>\n",
      "RangeIndex: 16 entries, 0 to 15\n",
      "Data columns (total 4 columns):\n",
      " #   Column      Non-Null Count  Dtype \n",
      "---  ------      --------------  ----- \n",
      " 0   Unnamed: 0  16 non-null     int64 \n",
      " 1   Type        16 non-null     object\n",
      " 2   Sentiment   16 non-null     object\n",
      " 3   Score       16 non-null     int64 \n",
      "dtypes: int64(2), object(2)\n",
      "memory usage: 640.0+ bytes\n"
     ]
    }
   ],
   "source": [
    "reaction_types_df.info()"
   ]
  },
  {
   "cell_type": "code",
   "execution_count": 56,
   "id": "443fa531",
   "metadata": {
    "ExecuteTime": {
     "end_time": "2023-01-11T16:57:49.651967Z",
     "start_time": "2023-01-11T16:57:49.627780Z"
    },
    "hidden": true
   },
   "outputs": [
    {
     "data": {
      "text/html": [
       "<div>\n",
       "<style scoped>\n",
       "    .dataframe tbody tr th:only-of-type {\n",
       "        vertical-align: middle;\n",
       "    }\n",
       "\n",
       "    .dataframe tbody tr th {\n",
       "        vertical-align: top;\n",
       "    }\n",
       "\n",
       "    .dataframe thead th {\n",
       "        text-align: right;\n",
       "    }\n",
       "</style>\n",
       "<table border=\"1\" class=\"dataframe\">\n",
       "  <thead>\n",
       "    <tr style=\"text-align: right;\">\n",
       "      <th></th>\n",
       "      <th>Unnamed: 0</th>\n",
       "      <th>Content ID</th>\n",
       "      <th>User ID</th>\n",
       "      <th>Type</th>\n",
       "      <th>Category</th>\n",
       "      <th>URL</th>\n",
       "    </tr>\n",
       "  </thead>\n",
       "  <tbody>\n",
       "    <tr>\n",
       "      <th>0</th>\n",
       "      <td>0</td>\n",
       "      <td>97522e57-d9ab-4bd6-97bf-c24d952602d2</td>\n",
       "      <td>8d3cd87d-8a31-4935-9a4f-b319bfe05f31</td>\n",
       "      <td>photo</td>\n",
       "      <td>Studying</td>\n",
       "      <td>https://socialbuzz.cdn.com/content/storage/975...</td>\n",
       "    </tr>\n",
       "    <tr>\n",
       "      <th>1</th>\n",
       "      <td>1</td>\n",
       "      <td>9f737e0a-3cdd-4d29-9d24-753f4e3be810</td>\n",
       "      <td>beb1f34e-7870-46d6-9fc7-2e12eb83ce43</td>\n",
       "      <td>photo</td>\n",
       "      <td>healthy eating</td>\n",
       "      <td>https://socialbuzz.cdn.com/content/storage/9f7...</td>\n",
       "    </tr>\n",
       "    <tr>\n",
       "      <th>2</th>\n",
       "      <td>2</td>\n",
       "      <td>230c4e4d-70c3-461d-b42c-ec09396efb3f</td>\n",
       "      <td>a5c65404-5894-4b87-82f2-d787cbee86b4</td>\n",
       "      <td>photo</td>\n",
       "      <td>healthy eating</td>\n",
       "      <td>https://socialbuzz.cdn.com/content/storage/230...</td>\n",
       "    </tr>\n",
       "    <tr>\n",
       "      <th>3</th>\n",
       "      <td>3</td>\n",
       "      <td>356fff80-da4d-4785-9f43-bc1261031dc6</td>\n",
       "      <td>9fb4ce88-fac1-406c-8544-1a899cee7aaf</td>\n",
       "      <td>photo</td>\n",
       "      <td>technology</td>\n",
       "      <td>https://socialbuzz.cdn.com/content/storage/356...</td>\n",
       "    </tr>\n",
       "    <tr>\n",
       "      <th>4</th>\n",
       "      <td>4</td>\n",
       "      <td>01ab84dd-6364-4236-abbb-3f237db77180</td>\n",
       "      <td>e206e31b-5f85-4964-b6ea-d7ee5324def1</td>\n",
       "      <td>video</td>\n",
       "      <td>food</td>\n",
       "      <td>https://socialbuzz.cdn.com/content/storage/01a...</td>\n",
       "    </tr>\n",
       "  </tbody>\n",
       "</table>\n",
       "</div>"
      ],
      "text/plain": [
       "   Unnamed: 0                            Content ID  \\\n",
       "0           0  97522e57-d9ab-4bd6-97bf-c24d952602d2   \n",
       "1           1  9f737e0a-3cdd-4d29-9d24-753f4e3be810   \n",
       "2           2  230c4e4d-70c3-461d-b42c-ec09396efb3f   \n",
       "3           3  356fff80-da4d-4785-9f43-bc1261031dc6   \n",
       "4           4  01ab84dd-6364-4236-abbb-3f237db77180   \n",
       "\n",
       "                                User ID   Type        Category  \\\n",
       "0  8d3cd87d-8a31-4935-9a4f-b319bfe05f31  photo        Studying   \n",
       "1  beb1f34e-7870-46d6-9fc7-2e12eb83ce43  photo  healthy eating   \n",
       "2  a5c65404-5894-4b87-82f2-d787cbee86b4  photo  healthy eating   \n",
       "3  9fb4ce88-fac1-406c-8544-1a899cee7aaf  photo      technology   \n",
       "4  e206e31b-5f85-4964-b6ea-d7ee5324def1  video            food   \n",
       "\n",
       "                                                 URL  \n",
       "0  https://socialbuzz.cdn.com/content/storage/975...  \n",
       "1  https://socialbuzz.cdn.com/content/storage/9f7...  \n",
       "2  https://socialbuzz.cdn.com/content/storage/230...  \n",
       "3  https://socialbuzz.cdn.com/content/storage/356...  \n",
       "4  https://socialbuzz.cdn.com/content/storage/01a...  "
      ]
     },
     "execution_count": 56,
     "metadata": {},
     "output_type": "execute_result"
    }
   ],
   "source": [
    "content_df.head()"
   ]
  },
  {
   "cell_type": "code",
   "execution_count": 57,
   "id": "188afeb7",
   "metadata": {
    "ExecuteTime": {
     "end_time": "2023-01-11T16:57:49.960925Z",
     "start_time": "2023-01-11T16:57:49.942700Z"
    },
    "hidden": true
   },
   "outputs": [
    {
     "name": "stdout",
     "output_type": "stream",
     "text": [
      "<class 'pandas.core.frame.DataFrame'>\n",
      "RangeIndex: 1000 entries, 0 to 999\n",
      "Data columns (total 6 columns):\n",
      " #   Column      Non-Null Count  Dtype \n",
      "---  ------      --------------  ----- \n",
      " 0   Unnamed: 0  1000 non-null   int64 \n",
      " 1   Content ID  1000 non-null   object\n",
      " 2   User ID     1000 non-null   object\n",
      " 3   Type        1000 non-null   object\n",
      " 4   Category    1000 non-null   object\n",
      " 5   URL         801 non-null    object\n",
      "dtypes: int64(1), object(5)\n",
      "memory usage: 47.0+ KB\n"
     ]
    }
   ],
   "source": [
    "content_df.info()"
   ]
  },
  {
   "cell_type": "markdown",
   "id": "eee11349",
   "metadata": {
    "hidden": true
   },
   "source": [
    "**No data transformation steps needed.**"
   ]
  },
  {
   "cell_type": "markdown",
   "id": "9a575949",
   "metadata": {},
   "source": [
    "# Data Cleaning"
   ]
  },
  {
   "cell_type": "markdown",
   "id": "ae5b0592",
   "metadata": {
    "heading_collapsed": true
   },
   "source": [
    "## Removing columns which are not relevant to this task"
   ]
  },
  {
   "cell_type": "markdown",
   "id": "2a250df9",
   "metadata": {
    "hidden": true
   },
   "source": [
    "We can see that each dataset has an Unnamed: 0 column, which is equal to the index and hence can be removed. "
   ]
  },
  {
   "cell_type": "code",
   "execution_count": 58,
   "id": "fd008890",
   "metadata": {
    "ExecuteTime": {
     "end_time": "2023-01-11T16:57:51.500704Z",
     "start_time": "2023-01-11T16:57:51.476775Z"
    },
    "hidden": true
   },
   "outputs": [
    {
     "data": {
      "text/plain": [
       "Index(['Unnamed: 0', 'Content ID', 'User ID', 'Type', 'Datetime'], dtype='object')"
      ]
     },
     "execution_count": 58,
     "metadata": {},
     "output_type": "execute_result"
    }
   ],
   "source": [
    "reactions_df.columns"
   ]
  },
  {
   "cell_type": "code",
   "execution_count": 59,
   "id": "39b9fa31",
   "metadata": {
    "ExecuteTime": {
     "end_time": "2023-01-11T16:57:51.939827Z",
     "start_time": "2023-01-11T16:57:51.902398Z"
    },
    "hidden": true
   },
   "outputs": [
    {
     "data": {
      "text/html": [
       "<div>\n",
       "<style scoped>\n",
       "    .dataframe tbody tr th:only-of-type {\n",
       "        vertical-align: middle;\n",
       "    }\n",
       "\n",
       "    .dataframe tbody tr th {\n",
       "        vertical-align: top;\n",
       "    }\n",
       "\n",
       "    .dataframe thead th {\n",
       "        text-align: right;\n",
       "    }\n",
       "</style>\n",
       "<table border=\"1\" class=\"dataframe\">\n",
       "  <thead>\n",
       "    <tr style=\"text-align: right;\">\n",
       "      <th></th>\n",
       "      <th>Content ID</th>\n",
       "      <th>User ID</th>\n",
       "      <th>Type</th>\n",
       "      <th>Datetime</th>\n",
       "    </tr>\n",
       "  </thead>\n",
       "  <tbody>\n",
       "    <tr>\n",
       "      <th>0</th>\n",
       "      <td>97522e57-d9ab-4bd6-97bf-c24d952602d2</td>\n",
       "      <td>NaN</td>\n",
       "      <td>NaN</td>\n",
       "      <td>2021-04-22 15:17:15</td>\n",
       "    </tr>\n",
       "    <tr>\n",
       "      <th>1</th>\n",
       "      <td>97522e57-d9ab-4bd6-97bf-c24d952602d2</td>\n",
       "      <td>5d454588-283d-459d-915d-c48a2cb4c27f</td>\n",
       "      <td>disgust</td>\n",
       "      <td>2020-11-07 09:43:50</td>\n",
       "    </tr>\n",
       "    <tr>\n",
       "      <th>2</th>\n",
       "      <td>97522e57-d9ab-4bd6-97bf-c24d952602d2</td>\n",
       "      <td>92b87fa5-f271-43e0-af66-84fac21052e6</td>\n",
       "      <td>dislike</td>\n",
       "      <td>2021-06-17 12:22:51</td>\n",
       "    </tr>\n",
       "    <tr>\n",
       "      <th>3</th>\n",
       "      <td>97522e57-d9ab-4bd6-97bf-c24d952602d2</td>\n",
       "      <td>163daa38-8b77-48c9-9af6-37a6c1447ac2</td>\n",
       "      <td>scared</td>\n",
       "      <td>2021-04-18 05:13:58</td>\n",
       "    </tr>\n",
       "    <tr>\n",
       "      <th>4</th>\n",
       "      <td>97522e57-d9ab-4bd6-97bf-c24d952602d2</td>\n",
       "      <td>34e8add9-0206-47fd-a501-037b994650a2</td>\n",
       "      <td>disgust</td>\n",
       "      <td>2021-01-06 19:13:01</td>\n",
       "    </tr>\n",
       "    <tr>\n",
       "      <th>...</th>\n",
       "      <td>...</td>\n",
       "      <td>...</td>\n",
       "      <td>...</td>\n",
       "      <td>...</td>\n",
       "    </tr>\n",
       "    <tr>\n",
       "      <th>25548</th>\n",
       "      <td>75d6b589-7fae-4a6d-b0d0-752845150e56</td>\n",
       "      <td>80c9ce48-46f9-4f5e-b3ca-3b698fc2e949</td>\n",
       "      <td>dislike</td>\n",
       "      <td>2020-06-27 09:46:48</td>\n",
       "    </tr>\n",
       "    <tr>\n",
       "      <th>25549</th>\n",
       "      <td>75d6b589-7fae-4a6d-b0d0-752845150e56</td>\n",
       "      <td>2bd9c167-e06c-47c1-a978-3403d6724606</td>\n",
       "      <td>intrigued</td>\n",
       "      <td>2021-02-16 17:17:02</td>\n",
       "    </tr>\n",
       "    <tr>\n",
       "      <th>25550</th>\n",
       "      <td>75d6b589-7fae-4a6d-b0d0-752845150e56</td>\n",
       "      <td>NaN</td>\n",
       "      <td>interested</td>\n",
       "      <td>2020-09-12 03:54:58</td>\n",
       "    </tr>\n",
       "    <tr>\n",
       "      <th>25551</th>\n",
       "      <td>75d6b589-7fae-4a6d-b0d0-752845150e56</td>\n",
       "      <td>5ffd8b51-164e-47e2-885e-8b8c46eb63ed</td>\n",
       "      <td>worried</td>\n",
       "      <td>2020-11-04 20:08:31</td>\n",
       "    </tr>\n",
       "    <tr>\n",
       "      <th>25552</th>\n",
       "      <td>75d6b589-7fae-4a6d-b0d0-752845150e56</td>\n",
       "      <td>4edc3d1a-a7d9-4db6-89c3-f784d9954172</td>\n",
       "      <td>cherish</td>\n",
       "      <td>2021-01-04 04:55:11</td>\n",
       "    </tr>\n",
       "  </tbody>\n",
       "</table>\n",
       "<p>25553 rows × 4 columns</p>\n",
       "</div>"
      ],
      "text/plain": [
       "                                 Content ID  \\\n",
       "0      97522e57-d9ab-4bd6-97bf-c24d952602d2   \n",
       "1      97522e57-d9ab-4bd6-97bf-c24d952602d2   \n",
       "2      97522e57-d9ab-4bd6-97bf-c24d952602d2   \n",
       "3      97522e57-d9ab-4bd6-97bf-c24d952602d2   \n",
       "4      97522e57-d9ab-4bd6-97bf-c24d952602d2   \n",
       "...                                     ...   \n",
       "25548  75d6b589-7fae-4a6d-b0d0-752845150e56   \n",
       "25549  75d6b589-7fae-4a6d-b0d0-752845150e56   \n",
       "25550  75d6b589-7fae-4a6d-b0d0-752845150e56   \n",
       "25551  75d6b589-7fae-4a6d-b0d0-752845150e56   \n",
       "25552  75d6b589-7fae-4a6d-b0d0-752845150e56   \n",
       "\n",
       "                                    User ID        Type             Datetime  \n",
       "0                                       NaN         NaN  2021-04-22 15:17:15  \n",
       "1      5d454588-283d-459d-915d-c48a2cb4c27f     disgust  2020-11-07 09:43:50  \n",
       "2      92b87fa5-f271-43e0-af66-84fac21052e6     dislike  2021-06-17 12:22:51  \n",
       "3      163daa38-8b77-48c9-9af6-37a6c1447ac2      scared  2021-04-18 05:13:58  \n",
       "4      34e8add9-0206-47fd-a501-037b994650a2     disgust  2021-01-06 19:13:01  \n",
       "...                                     ...         ...                  ...  \n",
       "25548  80c9ce48-46f9-4f5e-b3ca-3b698fc2e949     dislike  2020-06-27 09:46:48  \n",
       "25549  2bd9c167-e06c-47c1-a978-3403d6724606   intrigued  2021-02-16 17:17:02  \n",
       "25550                                   NaN  interested  2020-09-12 03:54:58  \n",
       "25551  5ffd8b51-164e-47e2-885e-8b8c46eb63ed     worried  2020-11-04 20:08:31  \n",
       "25552  4edc3d1a-a7d9-4db6-89c3-f784d9954172     cherish  2021-01-04 04:55:11  \n",
       "\n",
       "[25553 rows x 4 columns]"
      ]
     },
     "execution_count": 59,
     "metadata": {},
     "output_type": "execute_result"
    }
   ],
   "source": [
    "reactions_df = reactions_df.drop('Unnamed: 0', axis=1)\n",
    "reactions_df"
   ]
  },
  {
   "cell_type": "code",
   "execution_count": 60,
   "id": "d4dfdd48",
   "metadata": {
    "ExecuteTime": {
     "end_time": "2023-01-11T16:57:52.647452Z",
     "start_time": "2023-01-11T16:57:52.632756Z"
    },
    "hidden": true
   },
   "outputs": [],
   "source": [
    "reaction_types_df = reaction_types_df.drop('Unnamed: 0', axis=1)"
   ]
  },
  {
   "cell_type": "code",
   "execution_count": 61,
   "id": "72414137",
   "metadata": {
    "ExecuteTime": {
     "end_time": "2023-01-11T16:57:54.822669Z",
     "start_time": "2023-01-11T16:57:54.807240Z"
    },
    "hidden": true
   },
   "outputs": [],
   "source": [
    "content_df = content_df.drop('Unnamed: 0', axis=1)"
   ]
  },
  {
   "cell_type": "markdown",
   "id": "64a21da0",
   "metadata": {
    "hidden": true
   },
   "source": [
    "After further analysis, I've established that there are some more columns that are not required. These are in the reactions_df and in the content_df csvs. "
   ]
  },
  {
   "cell_type": "code",
   "execution_count": 62,
   "id": "9565c2eb",
   "metadata": {
    "ExecuteTime": {
     "end_time": "2023-01-11T16:57:55.206490Z",
     "start_time": "2023-01-11T16:57:55.184732Z"
    },
    "hidden": true
   },
   "outputs": [],
   "source": [
    "reactions_df = reactions_df.drop(['User ID'], axis=1)"
   ]
  },
  {
   "cell_type": "code",
   "execution_count": 63,
   "id": "d32885bf",
   "metadata": {
    "ExecuteTime": {
     "end_time": "2023-01-11T16:57:55.595831Z",
     "start_time": "2023-01-11T16:57:55.583092Z"
    },
    "hidden": true
   },
   "outputs": [
    {
     "data": {
      "text/plain": [
       "Index(['Type', 'Sentiment', 'Score'], dtype='object')"
      ]
     },
     "execution_count": 63,
     "metadata": {},
     "output_type": "execute_result"
    }
   ],
   "source": [
    "reaction_types_df.columns"
   ]
  },
  {
   "cell_type": "code",
   "execution_count": 64,
   "id": "80035dac",
   "metadata": {
    "ExecuteTime": {
     "end_time": "2023-01-11T16:57:56.064626Z",
     "start_time": "2023-01-11T16:57:56.042530Z"
    },
    "hidden": true
   },
   "outputs": [
    {
     "data": {
      "text/plain": [
       "Index(['Content ID', 'User ID', 'Type', 'Category', 'URL'], dtype='object')"
      ]
     },
     "execution_count": 64,
     "metadata": {},
     "output_type": "execute_result"
    }
   ],
   "source": [
    "content_df.columns"
   ]
  },
  {
   "cell_type": "code",
   "execution_count": 65,
   "id": "7fca23a1",
   "metadata": {
    "ExecuteTime": {
     "end_time": "2023-01-11T16:57:56.561782Z",
     "start_time": "2023-01-11T16:57:56.542700Z"
    },
    "hidden": true
   },
   "outputs": [],
   "source": [
    "content_df = content_df.drop(['User ID', 'URL'], axis=1)"
   ]
  },
  {
   "cell_type": "markdown",
   "id": "367c51f5",
   "metadata": {
    "heading_collapsed": true
   },
   "source": [
    "## changing the data type of some values within a column"
   ]
  },
  {
   "cell_type": "markdown",
   "id": "7230c8cd",
   "metadata": {
    "heading_collapsed": true,
    "hidden": true
   },
   "source": [
    "### Datetime column"
   ]
  },
  {
   "cell_type": "markdown",
   "id": "e67c8d39",
   "metadata": {
    "hidden": true
   },
   "source": [
    "The Datetime will be split into year, month, day, and timestamp. This way the analysis can cover this information as well."
   ]
  },
  {
   "cell_type": "code",
   "execution_count": 66,
   "id": "584d38b6",
   "metadata": {
    "ExecuteTime": {
     "end_time": "2023-01-11T16:57:58.511865Z",
     "start_time": "2023-01-11T16:57:58.488549Z"
    },
    "hidden": true
   },
   "outputs": [
    {
     "data": {
      "text/html": [
       "<div>\n",
       "<style scoped>\n",
       "    .dataframe tbody tr th:only-of-type {\n",
       "        vertical-align: middle;\n",
       "    }\n",
       "\n",
       "    .dataframe tbody tr th {\n",
       "        vertical-align: top;\n",
       "    }\n",
       "\n",
       "    .dataframe thead th {\n",
       "        text-align: right;\n",
       "    }\n",
       "</style>\n",
       "<table border=\"1\" class=\"dataframe\">\n",
       "  <thead>\n",
       "    <tr style=\"text-align: right;\">\n",
       "      <th></th>\n",
       "      <th>Content ID</th>\n",
       "      <th>Type</th>\n",
       "      <th>Datetime</th>\n",
       "    </tr>\n",
       "  </thead>\n",
       "  <tbody>\n",
       "    <tr>\n",
       "      <th>0</th>\n",
       "      <td>97522e57-d9ab-4bd6-97bf-c24d952602d2</td>\n",
       "      <td>NaN</td>\n",
       "      <td>2021-04-22 15:17:15</td>\n",
       "    </tr>\n",
       "    <tr>\n",
       "      <th>1</th>\n",
       "      <td>97522e57-d9ab-4bd6-97bf-c24d952602d2</td>\n",
       "      <td>disgust</td>\n",
       "      <td>2020-11-07 09:43:50</td>\n",
       "    </tr>\n",
       "    <tr>\n",
       "      <th>2</th>\n",
       "      <td>97522e57-d9ab-4bd6-97bf-c24d952602d2</td>\n",
       "      <td>dislike</td>\n",
       "      <td>2021-06-17 12:22:51</td>\n",
       "    </tr>\n",
       "    <tr>\n",
       "      <th>3</th>\n",
       "      <td>97522e57-d9ab-4bd6-97bf-c24d952602d2</td>\n",
       "      <td>scared</td>\n",
       "      <td>2021-04-18 05:13:58</td>\n",
       "    </tr>\n",
       "    <tr>\n",
       "      <th>4</th>\n",
       "      <td>97522e57-d9ab-4bd6-97bf-c24d952602d2</td>\n",
       "      <td>disgust</td>\n",
       "      <td>2021-01-06 19:13:01</td>\n",
       "    </tr>\n",
       "  </tbody>\n",
       "</table>\n",
       "</div>"
      ],
      "text/plain": [
       "                             Content ID     Type             Datetime\n",
       "0  97522e57-d9ab-4bd6-97bf-c24d952602d2      NaN  2021-04-22 15:17:15\n",
       "1  97522e57-d9ab-4bd6-97bf-c24d952602d2  disgust  2020-11-07 09:43:50\n",
       "2  97522e57-d9ab-4bd6-97bf-c24d952602d2  dislike  2021-06-17 12:22:51\n",
       "3  97522e57-d9ab-4bd6-97bf-c24d952602d2   scared  2021-04-18 05:13:58\n",
       "4  97522e57-d9ab-4bd6-97bf-c24d952602d2  disgust  2021-01-06 19:13:01"
      ]
     },
     "execution_count": 66,
     "metadata": {},
     "output_type": "execute_result"
    }
   ],
   "source": [
    "reactions_df.head()"
   ]
  },
  {
   "cell_type": "code",
   "execution_count": 67,
   "id": "40fbf3c4",
   "metadata": {
    "ExecuteTime": {
     "end_time": "2023-01-11T16:57:59.622120Z",
     "start_time": "2023-01-11T16:57:59.532908Z"
    },
    "hidden": true
   },
   "outputs": [
    {
     "data": {
      "text/html": [
       "<div>\n",
       "<style scoped>\n",
       "    .dataframe tbody tr th:only-of-type {\n",
       "        vertical-align: middle;\n",
       "    }\n",
       "\n",
       "    .dataframe tbody tr th {\n",
       "        vertical-align: top;\n",
       "    }\n",
       "\n",
       "    .dataframe thead th {\n",
       "        text-align: right;\n",
       "    }\n",
       "</style>\n",
       "<table border=\"1\" class=\"dataframe\">\n",
       "  <thead>\n",
       "    <tr style=\"text-align: right;\">\n",
       "      <th></th>\n",
       "      <th>Content ID</th>\n",
       "      <th>Type</th>\n",
       "      <th>Datetime</th>\n",
       "      <th>year</th>\n",
       "      <th>month</th>\n",
       "      <th>day</th>\n",
       "    </tr>\n",
       "  </thead>\n",
       "  <tbody>\n",
       "    <tr>\n",
       "      <th>0</th>\n",
       "      <td>97522e57-d9ab-4bd6-97bf-c24d952602d2</td>\n",
       "      <td>NaN</td>\n",
       "      <td>2021-04-22 15:17:15</td>\n",
       "      <td>2021</td>\n",
       "      <td>04</td>\n",
       "      <td>22 15:17:15</td>\n",
       "    </tr>\n",
       "    <tr>\n",
       "      <th>1</th>\n",
       "      <td>97522e57-d9ab-4bd6-97bf-c24d952602d2</td>\n",
       "      <td>disgust</td>\n",
       "      <td>2020-11-07 09:43:50</td>\n",
       "      <td>2020</td>\n",
       "      <td>11</td>\n",
       "      <td>07 09:43:50</td>\n",
       "    </tr>\n",
       "    <tr>\n",
       "      <th>2</th>\n",
       "      <td>97522e57-d9ab-4bd6-97bf-c24d952602d2</td>\n",
       "      <td>dislike</td>\n",
       "      <td>2021-06-17 12:22:51</td>\n",
       "      <td>2021</td>\n",
       "      <td>06</td>\n",
       "      <td>17 12:22:51</td>\n",
       "    </tr>\n",
       "    <tr>\n",
       "      <th>3</th>\n",
       "      <td>97522e57-d9ab-4bd6-97bf-c24d952602d2</td>\n",
       "      <td>scared</td>\n",
       "      <td>2021-04-18 05:13:58</td>\n",
       "      <td>2021</td>\n",
       "      <td>04</td>\n",
       "      <td>18 05:13:58</td>\n",
       "    </tr>\n",
       "    <tr>\n",
       "      <th>4</th>\n",
       "      <td>97522e57-d9ab-4bd6-97bf-c24d952602d2</td>\n",
       "      <td>disgust</td>\n",
       "      <td>2021-01-06 19:13:01</td>\n",
       "      <td>2021</td>\n",
       "      <td>01</td>\n",
       "      <td>06 19:13:01</td>\n",
       "    </tr>\n",
       "  </tbody>\n",
       "</table>\n",
       "</div>"
      ],
      "text/plain": [
       "                             Content ID     Type             Datetime  year  \\\n",
       "0  97522e57-d9ab-4bd6-97bf-c24d952602d2      NaN  2021-04-22 15:17:15  2021   \n",
       "1  97522e57-d9ab-4bd6-97bf-c24d952602d2  disgust  2020-11-07 09:43:50  2020   \n",
       "2  97522e57-d9ab-4bd6-97bf-c24d952602d2  dislike  2021-06-17 12:22:51  2021   \n",
       "3  97522e57-d9ab-4bd6-97bf-c24d952602d2   scared  2021-04-18 05:13:58  2021   \n",
       "4  97522e57-d9ab-4bd6-97bf-c24d952602d2  disgust  2021-01-06 19:13:01  2021   \n",
       "\n",
       "  month          day  \n",
       "0    04  22 15:17:15  \n",
       "1    11  07 09:43:50  \n",
       "2    06  17 12:22:51  \n",
       "3    04  18 05:13:58  \n",
       "4    01  06 19:13:01  "
      ]
     },
     "execution_count": 67,
     "metadata": {},
     "output_type": "execute_result"
    }
   ],
   "source": [
    "reactions_df[['year','month','day']] = reactions_df['Datetime'].str.split(\"-\", expand = True)\n",
    "reactions_df.head()"
   ]
  },
  {
   "cell_type": "code",
   "execution_count": 71,
   "id": "e1c6c1b4",
   "metadata": {
    "ExecuteTime": {
     "end_time": "2023-01-11T16:59:18.504298Z",
     "start_time": "2023-01-11T16:59:18.332446Z"
    },
    "hidden": true
   },
   "outputs": [
    {
     "data": {
      "text/html": [
       "<div>\n",
       "<style scoped>\n",
       "    .dataframe tbody tr th:only-of-type {\n",
       "        vertical-align: middle;\n",
       "    }\n",
       "\n",
       "    .dataframe tbody tr th {\n",
       "        vertical-align: top;\n",
       "    }\n",
       "\n",
       "    .dataframe thead th {\n",
       "        text-align: right;\n",
       "    }\n",
       "</style>\n",
       "<table border=\"1\" class=\"dataframe\">\n",
       "  <thead>\n",
       "    <tr style=\"text-align: right;\">\n",
       "      <th></th>\n",
       "      <th>Content ID</th>\n",
       "      <th>Type</th>\n",
       "      <th>Datetime</th>\n",
       "      <th>year</th>\n",
       "      <th>month</th>\n",
       "      <th>day</th>\n",
       "      <th>time</th>\n",
       "    </tr>\n",
       "  </thead>\n",
       "  <tbody>\n",
       "    <tr>\n",
       "      <th>0</th>\n",
       "      <td>97522e57-d9ab-4bd6-97bf-c24d952602d2</td>\n",
       "      <td>NaN</td>\n",
       "      <td>2021-04-22 15:17:15</td>\n",
       "      <td>2021</td>\n",
       "      <td>04</td>\n",
       "      <td>22</td>\n",
       "      <td>15:17:15</td>\n",
       "    </tr>\n",
       "    <tr>\n",
       "      <th>1</th>\n",
       "      <td>97522e57-d9ab-4bd6-97bf-c24d952602d2</td>\n",
       "      <td>disgust</td>\n",
       "      <td>2020-11-07 09:43:50</td>\n",
       "      <td>2020</td>\n",
       "      <td>11</td>\n",
       "      <td>07</td>\n",
       "      <td>09:43:50</td>\n",
       "    </tr>\n",
       "    <tr>\n",
       "      <th>2</th>\n",
       "      <td>97522e57-d9ab-4bd6-97bf-c24d952602d2</td>\n",
       "      <td>dislike</td>\n",
       "      <td>2021-06-17 12:22:51</td>\n",
       "      <td>2021</td>\n",
       "      <td>06</td>\n",
       "      <td>17</td>\n",
       "      <td>12:22:51</td>\n",
       "    </tr>\n",
       "    <tr>\n",
       "      <th>3</th>\n",
       "      <td>97522e57-d9ab-4bd6-97bf-c24d952602d2</td>\n",
       "      <td>scared</td>\n",
       "      <td>2021-04-18 05:13:58</td>\n",
       "      <td>2021</td>\n",
       "      <td>04</td>\n",
       "      <td>18</td>\n",
       "      <td>05:13:58</td>\n",
       "    </tr>\n",
       "    <tr>\n",
       "      <th>4</th>\n",
       "      <td>97522e57-d9ab-4bd6-97bf-c24d952602d2</td>\n",
       "      <td>disgust</td>\n",
       "      <td>2021-01-06 19:13:01</td>\n",
       "      <td>2021</td>\n",
       "      <td>01</td>\n",
       "      <td>06</td>\n",
       "      <td>19:13:01</td>\n",
       "    </tr>\n",
       "    <tr>\n",
       "      <th>...</th>\n",
       "      <td>...</td>\n",
       "      <td>...</td>\n",
       "      <td>...</td>\n",
       "      <td>...</td>\n",
       "      <td>...</td>\n",
       "      <td>...</td>\n",
       "      <td>...</td>\n",
       "    </tr>\n",
       "    <tr>\n",
       "      <th>25548</th>\n",
       "      <td>75d6b589-7fae-4a6d-b0d0-752845150e56</td>\n",
       "      <td>dislike</td>\n",
       "      <td>2020-06-27 09:46:48</td>\n",
       "      <td>2020</td>\n",
       "      <td>06</td>\n",
       "      <td>27</td>\n",
       "      <td>09:46:48</td>\n",
       "    </tr>\n",
       "    <tr>\n",
       "      <th>25549</th>\n",
       "      <td>75d6b589-7fae-4a6d-b0d0-752845150e56</td>\n",
       "      <td>intrigued</td>\n",
       "      <td>2021-02-16 17:17:02</td>\n",
       "      <td>2021</td>\n",
       "      <td>02</td>\n",
       "      <td>16</td>\n",
       "      <td>17:17:02</td>\n",
       "    </tr>\n",
       "    <tr>\n",
       "      <th>25550</th>\n",
       "      <td>75d6b589-7fae-4a6d-b0d0-752845150e56</td>\n",
       "      <td>interested</td>\n",
       "      <td>2020-09-12 03:54:58</td>\n",
       "      <td>2020</td>\n",
       "      <td>09</td>\n",
       "      <td>12</td>\n",
       "      <td>03:54:58</td>\n",
       "    </tr>\n",
       "    <tr>\n",
       "      <th>25551</th>\n",
       "      <td>75d6b589-7fae-4a6d-b0d0-752845150e56</td>\n",
       "      <td>worried</td>\n",
       "      <td>2020-11-04 20:08:31</td>\n",
       "      <td>2020</td>\n",
       "      <td>11</td>\n",
       "      <td>04</td>\n",
       "      <td>20:08:31</td>\n",
       "    </tr>\n",
       "    <tr>\n",
       "      <th>25552</th>\n",
       "      <td>75d6b589-7fae-4a6d-b0d0-752845150e56</td>\n",
       "      <td>cherish</td>\n",
       "      <td>2021-01-04 04:55:11</td>\n",
       "      <td>2021</td>\n",
       "      <td>01</td>\n",
       "      <td>04</td>\n",
       "      <td>04:55:11</td>\n",
       "    </tr>\n",
       "  </tbody>\n",
       "</table>\n",
       "<p>25553 rows × 7 columns</p>\n",
       "</div>"
      ],
      "text/plain": [
       "                                 Content ID        Type             Datetime  \\\n",
       "0      97522e57-d9ab-4bd6-97bf-c24d952602d2         NaN  2021-04-22 15:17:15   \n",
       "1      97522e57-d9ab-4bd6-97bf-c24d952602d2     disgust  2020-11-07 09:43:50   \n",
       "2      97522e57-d9ab-4bd6-97bf-c24d952602d2     dislike  2021-06-17 12:22:51   \n",
       "3      97522e57-d9ab-4bd6-97bf-c24d952602d2      scared  2021-04-18 05:13:58   \n",
       "4      97522e57-d9ab-4bd6-97bf-c24d952602d2     disgust  2021-01-06 19:13:01   \n",
       "...                                     ...         ...                  ...   \n",
       "25548  75d6b589-7fae-4a6d-b0d0-752845150e56     dislike  2020-06-27 09:46:48   \n",
       "25549  75d6b589-7fae-4a6d-b0d0-752845150e56   intrigued  2021-02-16 17:17:02   \n",
       "25550  75d6b589-7fae-4a6d-b0d0-752845150e56  interested  2020-09-12 03:54:58   \n",
       "25551  75d6b589-7fae-4a6d-b0d0-752845150e56     worried  2020-11-04 20:08:31   \n",
       "25552  75d6b589-7fae-4a6d-b0d0-752845150e56     cherish  2021-01-04 04:55:11   \n",
       "\n",
       "       year month day      time  \n",
       "0      2021    04  22  15:17:15  \n",
       "1      2020    11  07  09:43:50  \n",
       "2      2021    06  17  12:22:51  \n",
       "3      2021    04  18  05:13:58  \n",
       "4      2021    01  06  19:13:01  \n",
       "...     ...   ...  ..       ...  \n",
       "25548  2020    06  27  09:46:48  \n",
       "25549  2021    02  16  17:17:02  \n",
       "25550  2020    09  12  03:54:58  \n",
       "25551  2020    11  04  20:08:31  \n",
       "25552  2021    01  04  04:55:11  \n",
       "\n",
       "[25553 rows x 7 columns]"
      ]
     },
     "execution_count": 71,
     "metadata": {},
     "output_type": "execute_result"
    }
   ],
   "source": [
    "reactions_df[['day','time']] = reactions_df['day'].str.split(\" \",1, expand = True)\n",
    "reactions_df"
   ]
  },
  {
   "cell_type": "code",
   "execution_count": 72,
   "id": "d7e2931e",
   "metadata": {
    "ExecuteTime": {
     "end_time": "2023-01-11T16:59:48.692895Z",
     "start_time": "2023-01-11T16:59:48.662676Z"
    },
    "hidden": true
   },
   "outputs": [],
   "source": [
    "reactions_df = reactions_df.drop('Datetime', axis=1)"
   ]
  },
  {
   "cell_type": "markdown",
   "id": "f551d52c",
   "metadata": {
    "heading_collapsed": true
   },
   "source": [
    "## Renaming some columns "
   ]
  },
  {
   "cell_type": "code",
   "execution_count": 73,
   "id": "8c8948eb",
   "metadata": {
    "ExecuteTime": {
     "end_time": "2023-01-11T17:01:17.914599Z",
     "start_time": "2023-01-11T17:01:17.877001Z"
    },
    "hidden": true
   },
   "outputs": [
    {
     "data": {
      "text/html": [
       "<div>\n",
       "<style scoped>\n",
       "    .dataframe tbody tr th:only-of-type {\n",
       "        vertical-align: middle;\n",
       "    }\n",
       "\n",
       "    .dataframe tbody tr th {\n",
       "        vertical-align: top;\n",
       "    }\n",
       "\n",
       "    .dataframe thead th {\n",
       "        text-align: right;\n",
       "    }\n",
       "</style>\n",
       "<table border=\"1\" class=\"dataframe\">\n",
       "  <thead>\n",
       "    <tr style=\"text-align: right;\">\n",
       "      <th></th>\n",
       "      <th>Content ID</th>\n",
       "      <th>Type</th>\n",
       "      <th>year</th>\n",
       "      <th>month</th>\n",
       "      <th>day</th>\n",
       "      <th>time</th>\n",
       "    </tr>\n",
       "  </thead>\n",
       "  <tbody>\n",
       "    <tr>\n",
       "      <th>0</th>\n",
       "      <td>97522e57-d9ab-4bd6-97bf-c24d952602d2</td>\n",
       "      <td>NaN</td>\n",
       "      <td>2021</td>\n",
       "      <td>04</td>\n",
       "      <td>22</td>\n",
       "      <td>15:17:15</td>\n",
       "    </tr>\n",
       "    <tr>\n",
       "      <th>1</th>\n",
       "      <td>97522e57-d9ab-4bd6-97bf-c24d952602d2</td>\n",
       "      <td>disgust</td>\n",
       "      <td>2020</td>\n",
       "      <td>11</td>\n",
       "      <td>07</td>\n",
       "      <td>09:43:50</td>\n",
       "    </tr>\n",
       "    <tr>\n",
       "      <th>2</th>\n",
       "      <td>97522e57-d9ab-4bd6-97bf-c24d952602d2</td>\n",
       "      <td>dislike</td>\n",
       "      <td>2021</td>\n",
       "      <td>06</td>\n",
       "      <td>17</td>\n",
       "      <td>12:22:51</td>\n",
       "    </tr>\n",
       "    <tr>\n",
       "      <th>3</th>\n",
       "      <td>97522e57-d9ab-4bd6-97bf-c24d952602d2</td>\n",
       "      <td>scared</td>\n",
       "      <td>2021</td>\n",
       "      <td>04</td>\n",
       "      <td>18</td>\n",
       "      <td>05:13:58</td>\n",
       "    </tr>\n",
       "    <tr>\n",
       "      <th>4</th>\n",
       "      <td>97522e57-d9ab-4bd6-97bf-c24d952602d2</td>\n",
       "      <td>disgust</td>\n",
       "      <td>2021</td>\n",
       "      <td>01</td>\n",
       "      <td>06</td>\n",
       "      <td>19:13:01</td>\n",
       "    </tr>\n",
       "  </tbody>\n",
       "</table>\n",
       "</div>"
      ],
      "text/plain": [
       "                             Content ID     Type  year month day      time\n",
       "0  97522e57-d9ab-4bd6-97bf-c24d952602d2      NaN  2021    04  22  15:17:15\n",
       "1  97522e57-d9ab-4bd6-97bf-c24d952602d2  disgust  2020    11  07  09:43:50\n",
       "2  97522e57-d9ab-4bd6-97bf-c24d952602d2  dislike  2021    06  17  12:22:51\n",
       "3  97522e57-d9ab-4bd6-97bf-c24d952602d2   scared  2021    04  18  05:13:58\n",
       "4  97522e57-d9ab-4bd6-97bf-c24d952602d2  disgust  2021    01  06  19:13:01"
      ]
     },
     "execution_count": 73,
     "metadata": {},
     "output_type": "execute_result"
    }
   ],
   "source": [
    "reactions_df.head()"
   ]
  },
  {
   "cell_type": "code",
   "execution_count": 99,
   "id": "5d4583ec",
   "metadata": {
    "ExecuteTime": {
     "end_time": "2023-01-11T17:14:23.021282Z",
     "start_time": "2023-01-11T17:14:23.006932Z"
    },
    "hidden": true
   },
   "outputs": [],
   "source": [
    "reactions_df = reactions_df.rename(columns = {'Type':'reaction_type', 'Content ID':'content_ID'})"
   ]
  },
  {
   "cell_type": "code",
   "execution_count": 77,
   "id": "51351445",
   "metadata": {
    "ExecuteTime": {
     "end_time": "2023-01-11T17:04:50.962386Z",
     "start_time": "2023-01-11T17:04:50.938196Z"
    },
    "hidden": true
   },
   "outputs": [
    {
     "data": {
      "text/html": [
       "<div>\n",
       "<style scoped>\n",
       "    .dataframe tbody tr th:only-of-type {\n",
       "        vertical-align: middle;\n",
       "    }\n",
       "\n",
       "    .dataframe tbody tr th {\n",
       "        vertical-align: top;\n",
       "    }\n",
       "\n",
       "    .dataframe thead th {\n",
       "        text-align: right;\n",
       "    }\n",
       "</style>\n",
       "<table border=\"1\" class=\"dataframe\">\n",
       "  <thead>\n",
       "    <tr style=\"text-align: right;\">\n",
       "      <th></th>\n",
       "      <th>Type</th>\n",
       "      <th>Sentiment</th>\n",
       "      <th>Score</th>\n",
       "    </tr>\n",
       "  </thead>\n",
       "  <tbody>\n",
       "    <tr>\n",
       "      <th>0</th>\n",
       "      <td>heart</td>\n",
       "      <td>positive</td>\n",
       "      <td>60</td>\n",
       "    </tr>\n",
       "    <tr>\n",
       "      <th>1</th>\n",
       "      <td>want</td>\n",
       "      <td>positive</td>\n",
       "      <td>70</td>\n",
       "    </tr>\n",
       "    <tr>\n",
       "      <th>2</th>\n",
       "      <td>disgust</td>\n",
       "      <td>negative</td>\n",
       "      <td>0</td>\n",
       "    </tr>\n",
       "    <tr>\n",
       "      <th>3</th>\n",
       "      <td>hate</td>\n",
       "      <td>negative</td>\n",
       "      <td>5</td>\n",
       "    </tr>\n",
       "    <tr>\n",
       "      <th>4</th>\n",
       "      <td>interested</td>\n",
       "      <td>positive</td>\n",
       "      <td>30</td>\n",
       "    </tr>\n",
       "  </tbody>\n",
       "</table>\n",
       "</div>"
      ],
      "text/plain": [
       "         Type Sentiment  Score\n",
       "0       heart  positive     60\n",
       "1        want  positive     70\n",
       "2     disgust  negative      0\n",
       "3        hate  negative      5\n",
       "4  interested  positive     30"
      ]
     },
     "execution_count": 77,
     "metadata": {},
     "output_type": "execute_result"
    }
   ],
   "source": [
    "reaction_types_df.head()"
   ]
  },
  {
   "cell_type": "code",
   "execution_count": 97,
   "id": "ea417483",
   "metadata": {
    "ExecuteTime": {
     "end_time": "2023-01-11T17:14:09.364755Z",
     "start_time": "2023-01-11T17:14:09.349720Z"
    },
    "hidden": true
   },
   "outputs": [],
   "source": [
    "reaction_types_df = reaction_types_df.rename(columns = {'Type':'reaction_type', 'Sentiment':'sentiment','Score':'reaction_score'})"
   ]
  },
  {
   "cell_type": "code",
   "execution_count": 82,
   "id": "9ed545ae",
   "metadata": {
    "ExecuteTime": {
     "end_time": "2023-01-11T17:07:57.420937Z",
     "start_time": "2023-01-11T17:07:57.392740Z"
    },
    "hidden": true
   },
   "outputs": [
    {
     "data": {
      "text/html": [
       "<div>\n",
       "<style scoped>\n",
       "    .dataframe tbody tr th:only-of-type {\n",
       "        vertical-align: middle;\n",
       "    }\n",
       "\n",
       "    .dataframe tbody tr th {\n",
       "        vertical-align: top;\n",
       "    }\n",
       "\n",
       "    .dataframe thead th {\n",
       "        text-align: right;\n",
       "    }\n",
       "</style>\n",
       "<table border=\"1\" class=\"dataframe\">\n",
       "  <thead>\n",
       "    <tr style=\"text-align: right;\">\n",
       "      <th></th>\n",
       "      <th>Content ID</th>\n",
       "      <th>Type</th>\n",
       "      <th>Category</th>\n",
       "    </tr>\n",
       "  </thead>\n",
       "  <tbody>\n",
       "    <tr>\n",
       "      <th>0</th>\n",
       "      <td>97522e57-d9ab-4bd6-97bf-c24d952602d2</td>\n",
       "      <td>photo</td>\n",
       "      <td>Studying</td>\n",
       "    </tr>\n",
       "    <tr>\n",
       "      <th>1</th>\n",
       "      <td>9f737e0a-3cdd-4d29-9d24-753f4e3be810</td>\n",
       "      <td>photo</td>\n",
       "      <td>healthy eating</td>\n",
       "    </tr>\n",
       "    <tr>\n",
       "      <th>2</th>\n",
       "      <td>230c4e4d-70c3-461d-b42c-ec09396efb3f</td>\n",
       "      <td>photo</td>\n",
       "      <td>healthy eating</td>\n",
       "    </tr>\n",
       "    <tr>\n",
       "      <th>3</th>\n",
       "      <td>356fff80-da4d-4785-9f43-bc1261031dc6</td>\n",
       "      <td>photo</td>\n",
       "      <td>technology</td>\n",
       "    </tr>\n",
       "    <tr>\n",
       "      <th>4</th>\n",
       "      <td>01ab84dd-6364-4236-abbb-3f237db77180</td>\n",
       "      <td>video</td>\n",
       "      <td>food</td>\n",
       "    </tr>\n",
       "  </tbody>\n",
       "</table>\n",
       "</div>"
      ],
      "text/plain": [
       "                             Content ID   Type        Category\n",
       "0  97522e57-d9ab-4bd6-97bf-c24d952602d2  photo        Studying\n",
       "1  9f737e0a-3cdd-4d29-9d24-753f4e3be810  photo  healthy eating\n",
       "2  230c4e4d-70c3-461d-b42c-ec09396efb3f  photo  healthy eating\n",
       "3  356fff80-da4d-4785-9f43-bc1261031dc6  photo      technology\n",
       "4  01ab84dd-6364-4236-abbb-3f237db77180  video            food"
      ]
     },
     "execution_count": 82,
     "metadata": {},
     "output_type": "execute_result"
    }
   ],
   "source": [
    "content_df.head()"
   ]
  },
  {
   "cell_type": "code",
   "execution_count": 98,
   "id": "593d38c8",
   "metadata": {
    "ExecuteTime": {
     "end_time": "2023-01-11T17:14:13.966380Z",
     "start_time": "2023-01-11T17:14:13.948330Z"
    },
    "hidden": true
   },
   "outputs": [],
   "source": [
    "content_df = content_df.rename(columns = {'Content ID':'content_ID','Type':'content_type','Category':'content_category'})"
   ]
  },
  {
   "cell_type": "code",
   "execution_count": 84,
   "id": "04b33522",
   "metadata": {
    "ExecuteTime": {
     "end_time": "2023-01-11T17:09:39.476645Z",
     "start_time": "2023-01-11T17:09:39.464085Z"
    },
    "hidden": true
   },
   "outputs": [
    {
     "data": {
      "text/plain": [
       "(25553, 6)"
      ]
     },
     "execution_count": 84,
     "metadata": {},
     "output_type": "execute_result"
    }
   ],
   "source": [
    "reactions_df.shape"
   ]
  },
  {
   "cell_type": "code",
   "execution_count": 85,
   "id": "990afacf",
   "metadata": {
    "ExecuteTime": {
     "end_time": "2023-01-11T17:09:49.065933Z",
     "start_time": "2023-01-11T17:09:49.044530Z"
    },
    "hidden": true
   },
   "outputs": [
    {
     "data": {
      "text/plain": [
       "(16, 3)"
      ]
     },
     "execution_count": 85,
     "metadata": {},
     "output_type": "execute_result"
    }
   ],
   "source": [
    "reaction_types_df.shape"
   ]
  },
  {
   "cell_type": "code",
   "execution_count": 86,
   "id": "d5bee8f2",
   "metadata": {
    "ExecuteTime": {
     "end_time": "2023-01-11T17:09:54.572152Z",
     "start_time": "2023-01-11T17:09:54.552518Z"
    },
    "hidden": true
   },
   "outputs": [
    {
     "data": {
      "text/plain": [
       "(1000, 3)"
      ]
     },
     "execution_count": 86,
     "metadata": {},
     "output_type": "execute_result"
    }
   ],
   "source": [
    "content_df.shape"
   ]
  },
  {
   "cell_type": "markdown",
   "id": "6c6bb7fe",
   "metadata": {},
   "source": [
    "## Removing rows that have values which are missing"
   ]
  },
  {
   "cell_type": "markdown",
   "id": "29711055",
   "metadata": {},
   "source": [
    "### Checking for duplicates"
   ]
  },
  {
   "cell_type": "code",
   "execution_count": 94,
   "id": "94a93112",
   "metadata": {
    "ExecuteTime": {
     "end_time": "2023-01-11T17:11:54.670382Z",
     "start_time": "2023-01-11T17:11:54.613740Z"
    }
   },
   "outputs": [
    {
     "data": {
      "text/plain": [
       "False    25553\n",
       "dtype: int64"
      ]
     },
     "execution_count": 94,
     "metadata": {},
     "output_type": "execute_result"
    }
   ],
   "source": [
    "reactions_df.duplicated().value_counts()"
   ]
  },
  {
   "cell_type": "code",
   "execution_count": 93,
   "id": "d3b2f119",
   "metadata": {
    "ExecuteTime": {
     "end_time": "2023-01-11T17:11:44.351815Z",
     "start_time": "2023-01-11T17:11:44.319454Z"
    }
   },
   "outputs": [
    {
     "data": {
      "text/plain": [
       "False    16\n",
       "dtype: int64"
      ]
     },
     "execution_count": 93,
     "metadata": {},
     "output_type": "execute_result"
    }
   ],
   "source": [
    "reaction_types_df.duplicated().value_counts()"
   ]
  },
  {
   "cell_type": "code",
   "execution_count": 92,
   "id": "6db730d1",
   "metadata": {
    "ExecuteTime": {
     "end_time": "2023-01-11T17:11:41.791778Z",
     "start_time": "2023-01-11T17:11:41.774031Z"
    }
   },
   "outputs": [
    {
     "data": {
      "text/plain": [
       "False    1000\n",
       "dtype: int64"
      ]
     },
     "execution_count": 92,
     "metadata": {},
     "output_type": "execute_result"
    }
   ],
   "source": [
    "content_df.duplicated().value_counts()"
   ]
  },
  {
   "cell_type": "markdown",
   "id": "aaa571b2",
   "metadata": {},
   "source": [
    "There are no duplicate values. "
   ]
  },
  {
   "cell_type": "markdown",
   "id": "73f28142",
   "metadata": {},
   "source": [
    "### Checking for NaN"
   ]
  },
  {
   "cell_type": "code",
   "execution_count": 105,
   "id": "93e0ffdb",
   "metadata": {
    "ExecuteTime": {
     "end_time": "2023-01-11T17:16:30.791351Z",
     "start_time": "2023-01-11T17:16:30.778727Z"
    }
   },
   "outputs": [
    {
     "data": {
      "text/plain": [
       "reaction_type     0\n",
       "sentiment         0\n",
       "reaction_score    0\n",
       "dtype: int64"
      ]
     },
     "execution_count": 105,
     "metadata": {},
     "output_type": "execute_result"
    }
   ],
   "source": [
    "reaction_types_df.isnull().sum()"
   ]
  },
  {
   "cell_type": "code",
   "execution_count": 106,
   "id": "88de2160",
   "metadata": {
    "ExecuteTime": {
     "end_time": "2023-01-11T17:16:37.172844Z",
     "start_time": "2023-01-11T17:16:37.141147Z"
    }
   },
   "outputs": [
    {
     "data": {
      "text/plain": [
       "content_ID          0\n",
       "content_type        0\n",
       "content_category    0\n",
       "dtype: int64"
      ]
     },
     "execution_count": 106,
     "metadata": {},
     "output_type": "execute_result"
    }
   ],
   "source": [
    "content_df.isnull().sum()"
   ]
  },
  {
   "cell_type": "code",
   "execution_count": 100,
   "id": "8e6e60a3",
   "metadata": {
    "ExecuteTime": {
     "end_time": "2023-01-11T17:14:25.336179Z",
     "start_time": "2023-01-11T17:14:25.309850Z"
    }
   },
   "outputs": [
    {
     "data": {
      "text/plain": [
       "content_ID         0\n",
       "reaction_type    980\n",
       "year               0\n",
       "month              0\n",
       "day                0\n",
       "time               0\n",
       "dtype: int64"
      ]
     },
     "execution_count": 100,
     "metadata": {},
     "output_type": "execute_result"
    }
   ],
   "source": [
    "reactions_df.isnull().sum()"
   ]
  },
  {
   "cell_type": "code",
   "execution_count": 104,
   "id": "d7010830",
   "metadata": {
    "ExecuteTime": {
     "end_time": "2023-01-11T17:16:15.719946Z",
     "start_time": "2023-01-11T17:16:15.703370Z"
    }
   },
   "outputs": [
    {
     "name": "stdout",
     "output_type": "stream",
     "text": [
      "Percentage of NaN values in the reactions_df: 0.03835166125308183 %\n"
     ]
    }
   ],
   "source": [
    "print(\"Percentage of NaN values in the reactions_df:\", 980/25553, \"%\")"
   ]
  },
  {
   "cell_type": "markdown",
   "id": "b726c306",
   "metadata": {},
   "source": [
    "Even though the percentage of NaN values in the reactions_df is very low, as reaction_type will be included in this analysis, the NaN values will be removed. "
   ]
  },
  {
   "cell_type": "code",
   "execution_count": 107,
   "id": "603ba33b",
   "metadata": {
    "ExecuteTime": {
     "end_time": "2023-01-11T17:18:54.828593Z",
     "start_time": "2023-01-11T17:18:54.784216Z"
    }
   },
   "outputs": [],
   "source": [
    "reactions_df.dropna(inplace=True)"
   ]
  },
  {
   "cell_type": "code",
   "execution_count": 108,
   "id": "9ed996b3",
   "metadata": {
    "ExecuteTime": {
     "end_time": "2023-01-11T17:19:01.050101Z",
     "start_time": "2023-01-11T17:19:01.015613Z"
    }
   },
   "outputs": [
    {
     "data": {
      "text/plain": [
       "content_ID       0\n",
       "reaction_type    0\n",
       "year             0\n",
       "month            0\n",
       "day              0\n",
       "time             0\n",
       "dtype: int64"
      ]
     },
     "execution_count": 108,
     "metadata": {},
     "output_type": "execute_result"
    }
   ],
   "source": [
    "reactions_df.isnull().sum()"
   ]
  },
  {
   "cell_type": "markdown",
   "id": "9e589dda",
   "metadata": {},
   "source": [
    "### Data checks"
   ]
  },
  {
   "cell_type": "code",
   "execution_count": 109,
   "id": "fc9c9c03",
   "metadata": {
    "ExecuteTime": {
     "end_time": "2023-01-11T17:22:30.548372Z",
     "start_time": "2023-01-11T17:22:30.525602Z"
    }
   },
   "outputs": [
    {
     "data": {
      "text/plain": [
       "Index(['content_ID', 'content_type', 'content_category'], dtype='object')"
      ]
     },
     "execution_count": 109,
     "metadata": {},
     "output_type": "execute_result"
    }
   ],
   "source": [
    "content_df.columns"
   ]
  },
  {
   "cell_type": "code",
   "execution_count": 110,
   "id": "db2deccb",
   "metadata": {
    "ExecuteTime": {
     "end_time": "2023-01-11T17:22:42.315952Z",
     "start_time": "2023-01-11T17:22:42.303981Z"
    }
   },
   "outputs": [
    {
     "data": {
      "text/plain": [
       "array(['photo', 'video', 'GIF', 'audio'], dtype=object)"
      ]
     },
     "execution_count": 110,
     "metadata": {},
     "output_type": "execute_result"
    }
   ],
   "source": [
    "content_df.content_type.unique()"
   ]
  },
  {
   "cell_type": "code",
   "execution_count": 111,
   "id": "4d3a1370",
   "metadata": {
    "ExecuteTime": {
     "end_time": "2023-01-11T17:22:51.663423Z",
     "start_time": "2023-01-11T17:22:51.647652Z"
    }
   },
   "outputs": [
    {
     "data": {
      "text/plain": [
       "array(['Studying', 'healthy eating', 'technology', 'food', 'cooking',\n",
       "       'dogs', 'soccer', 'public speaking', 'science', 'tennis', 'travel',\n",
       "       'fitness', 'education', 'studying', 'veganism', 'Animals',\n",
       "       'animals', 'culture', '\"culture\"', 'Fitness', '\"studying\"',\n",
       "       'Veganism', '\"animals\"', 'Travel', '\"soccer\"', 'Education',\n",
       "       '\"dogs\"', 'Technology', 'Soccer', '\"tennis\"', 'Culture', '\"food\"',\n",
       "       'Food', '\"technology\"', 'Healthy Eating', '\"cooking\"', 'Science',\n",
       "       '\"public speaking\"', '\"veganism\"', 'Public Speaking', '\"science\"'],\n",
       "      dtype=object)"
      ]
     },
     "execution_count": 111,
     "metadata": {},
     "output_type": "execute_result"
    }
   ],
   "source": [
    "content_df.content_category.unique()"
   ]
  },
  {
   "cell_type": "code",
   "execution_count": 119,
   "id": "9f9c4589",
   "metadata": {
    "ExecuteTime": {
     "end_time": "2023-01-11T17:26:15.932581Z",
     "start_time": "2023-01-11T17:26:15.916657Z"
    }
   },
   "outputs": [],
   "source": [
    "content_df.content_category = content_df.content_category.str.replace('\"', '').str.lower()"
   ]
  },
  {
   "cell_type": "code",
   "execution_count": 120,
   "id": "c2bf6335",
   "metadata": {
    "ExecuteTime": {
     "end_time": "2023-01-11T17:26:16.276994Z",
     "start_time": "2023-01-11T17:26:16.264251Z"
    }
   },
   "outputs": [
    {
     "data": {
      "text/plain": [
       "array(['studying', 'healthy eating', 'technology', 'food', 'cooking',\n",
       "       'dogs', 'soccer', 'public speaking', 'science', 'tennis', 'travel',\n",
       "       'fitness', 'education', 'veganism', 'animals', 'culture'],\n",
       "      dtype=object)"
      ]
     },
     "execution_count": 120,
     "metadata": {},
     "output_type": "execute_result"
    }
   ],
   "source": [
    "content_df.content_category.unique()"
   ]
  },
  {
   "cell_type": "code",
   "execution_count": 121,
   "id": "acfabf60",
   "metadata": {
    "ExecuteTime": {
     "end_time": "2023-01-11T17:26:38.683495Z",
     "start_time": "2023-01-11T17:26:38.667794Z"
    }
   },
   "outputs": [
    {
     "data": {
      "text/plain": [
       "Index(['content_ID', 'reaction_type', 'year', 'month', 'day', 'time'], dtype='object')"
      ]
     },
     "execution_count": 121,
     "metadata": {},
     "output_type": "execute_result"
    }
   ],
   "source": [
    "reactions_df.columns"
   ]
  },
  {
   "cell_type": "code",
   "execution_count": 122,
   "id": "6d7bf750",
   "metadata": {
    "ExecuteTime": {
     "end_time": "2023-01-11T17:26:49.025599Z",
     "start_time": "2023-01-11T17:26:49.005852Z"
    }
   },
   "outputs": [
    {
     "data": {
      "text/plain": [
       "array(['disgust', 'dislike', 'scared', 'interested', 'peeking', 'cherish',\n",
       "       'hate', 'love', 'indifferent', 'super love', 'intrigued',\n",
       "       'worried', 'like', 'heart', 'want', 'adore'], dtype=object)"
      ]
     },
     "execution_count": 122,
     "metadata": {},
     "output_type": "execute_result"
    }
   ],
   "source": [
    "reactions_df.reaction_type.unique()"
   ]
  },
  {
   "cell_type": "code",
   "execution_count": 123,
   "id": "aac31a21",
   "metadata": {
    "ExecuteTime": {
     "end_time": "2023-01-11T17:27:09.581792Z",
     "start_time": "2023-01-11T17:27:09.565538Z"
    }
   },
   "outputs": [
    {
     "data": {
      "text/plain": [
       "Index(['reaction_type', 'sentiment', 'reaction_score'], dtype='object')"
      ]
     },
     "execution_count": 123,
     "metadata": {},
     "output_type": "execute_result"
    }
   ],
   "source": [
    "reaction_types_df.columns"
   ]
  },
  {
   "cell_type": "code",
   "execution_count": 124,
   "id": "a3dbe0ee",
   "metadata": {
    "ExecuteTime": {
     "end_time": "2023-01-11T17:27:21.190192Z",
     "start_time": "2023-01-11T17:27:21.165912Z"
    }
   },
   "outputs": [
    {
     "data": {
      "text/plain": [
       "array(['heart', 'want', 'disgust', 'hate', 'interested', 'indifferent',\n",
       "       'love', 'super love', 'cherish', 'adore', 'like', 'dislike',\n",
       "       'intrigued', 'peeking', 'scared', 'worried'], dtype=object)"
      ]
     },
     "execution_count": 124,
     "metadata": {},
     "output_type": "execute_result"
    }
   ],
   "source": [
    "reaction_types_df.reaction_type.unique()"
   ]
  },
  {
   "cell_type": "code",
   "execution_count": 125,
   "id": "0671d5f6",
   "metadata": {
    "ExecuteTime": {
     "end_time": "2023-01-11T17:27:37.243340Z",
     "start_time": "2023-01-11T17:27:37.227340Z"
    }
   },
   "outputs": [
    {
     "data": {
      "text/plain": [
       "array(['positive', 'negative', 'neutral'], dtype=object)"
      ]
     },
     "execution_count": 125,
     "metadata": {},
     "output_type": "execute_result"
    }
   ],
   "source": [
    "reaction_types_df.sentiment.unique()"
   ]
  },
  {
   "cell_type": "code",
   "execution_count": 128,
   "id": "cfc0590f",
   "metadata": {
    "ExecuteTime": {
     "end_time": "2023-01-11T17:29:48.709720Z",
     "start_time": "2023-01-11T17:29:48.694350Z"
    }
   },
   "outputs": [
    {
     "data": {
      "text/plain": [
       "array([60, 70,  0,  5, 30, 20, 65, 75, 72, 50, 10, 45, 35, 15, 12],\n",
       "      dtype=int64)"
      ]
     },
     "execution_count": 128,
     "metadata": {},
     "output_type": "execute_result"
    }
   ],
   "source": [
    "reaction_types_df.reaction_score.unique()"
   ]
  },
  {
   "cell_type": "markdown",
   "id": "786aebf7",
   "metadata": {},
   "source": [
    "# Data Modelling"
   ]
  },
  {
   "cell_type": "markdown",
   "id": "45458699",
   "metadata": {
    "ExecuteTime": {
     "end_time": "2023-01-11T17:36:06.836696Z",
     "start_time": "2023-01-11T17:36:06.814191Z"
    }
   },
   "source": [
    "Merge the three datasets into one. Order to follow: \n",
    "- reactions_df \n",
    "- content_df \n",
    "- reaction_types_df"
   ]
  },
  {
   "cell_type": "code",
   "execution_count": 132,
   "id": "3019fe0d",
   "metadata": {
    "ExecuteTime": {
     "end_time": "2023-01-11T17:36:31.045744Z",
     "start_time": "2023-01-11T17:36:31.033606Z"
    }
   },
   "outputs": [
    {
     "data": {
      "text/plain": [
       "Index(['content_ID', 'reaction_type', 'year', 'month', 'day', 'time'], dtype='object')"
      ]
     },
     "execution_count": 132,
     "metadata": {},
     "output_type": "execute_result"
    }
   ],
   "source": [
    "reactions_df.columns"
   ]
  },
  {
   "cell_type": "code",
   "execution_count": 133,
   "id": "f6cc06a6",
   "metadata": {
    "ExecuteTime": {
     "end_time": "2023-01-11T17:36:37.393334Z",
     "start_time": "2023-01-11T17:36:37.384206Z"
    }
   },
   "outputs": [
    {
     "data": {
      "text/plain": [
       "Index(['content_ID', 'content_type', 'content_category'], dtype='object')"
      ]
     },
     "execution_count": 133,
     "metadata": {},
     "output_type": "execute_result"
    }
   ],
   "source": [
    "content_df.columns"
   ]
  },
  {
   "cell_type": "code",
   "execution_count": 134,
   "id": "24aa6268",
   "metadata": {
    "ExecuteTime": {
     "end_time": "2023-01-11T17:36:46.527830Z",
     "start_time": "2023-01-11T17:36:46.504282Z"
    }
   },
   "outputs": [
    {
     "data": {
      "text/html": [
       "<div>\n",
       "<style scoped>\n",
       "    .dataframe tbody tr th:only-of-type {\n",
       "        vertical-align: middle;\n",
       "    }\n",
       "\n",
       "    .dataframe tbody tr th {\n",
       "        vertical-align: top;\n",
       "    }\n",
       "\n",
       "    .dataframe thead th {\n",
       "        text-align: right;\n",
       "    }\n",
       "</style>\n",
       "<table border=\"1\" class=\"dataframe\">\n",
       "  <thead>\n",
       "    <tr style=\"text-align: right;\">\n",
       "      <th></th>\n",
       "      <th>content_ID</th>\n",
       "      <th>content_type</th>\n",
       "      <th>content_category</th>\n",
       "    </tr>\n",
       "  </thead>\n",
       "  <tbody>\n",
       "    <tr>\n",
       "      <th>0</th>\n",
       "      <td>97522e57-d9ab-4bd6-97bf-c24d952602d2</td>\n",
       "      <td>photo</td>\n",
       "      <td>studying</td>\n",
       "    </tr>\n",
       "    <tr>\n",
       "      <th>1</th>\n",
       "      <td>9f737e0a-3cdd-4d29-9d24-753f4e3be810</td>\n",
       "      <td>photo</td>\n",
       "      <td>healthy eating</td>\n",
       "    </tr>\n",
       "    <tr>\n",
       "      <th>2</th>\n",
       "      <td>230c4e4d-70c3-461d-b42c-ec09396efb3f</td>\n",
       "      <td>photo</td>\n",
       "      <td>healthy eating</td>\n",
       "    </tr>\n",
       "    <tr>\n",
       "      <th>3</th>\n",
       "      <td>356fff80-da4d-4785-9f43-bc1261031dc6</td>\n",
       "      <td>photo</td>\n",
       "      <td>technology</td>\n",
       "    </tr>\n",
       "    <tr>\n",
       "      <th>4</th>\n",
       "      <td>01ab84dd-6364-4236-abbb-3f237db77180</td>\n",
       "      <td>video</td>\n",
       "      <td>food</td>\n",
       "    </tr>\n",
       "  </tbody>\n",
       "</table>\n",
       "</div>"
      ],
      "text/plain": [
       "                             content_ID content_type content_category\n",
       "0  97522e57-d9ab-4bd6-97bf-c24d952602d2        photo         studying\n",
       "1  9f737e0a-3cdd-4d29-9d24-753f4e3be810        photo   healthy eating\n",
       "2  230c4e4d-70c3-461d-b42c-ec09396efb3f        photo   healthy eating\n",
       "3  356fff80-da4d-4785-9f43-bc1261031dc6        photo       technology\n",
       "4  01ab84dd-6364-4236-abbb-3f237db77180        video             food"
      ]
     },
     "execution_count": 134,
     "metadata": {},
     "output_type": "execute_result"
    }
   ],
   "source": [
    "content_df.head()"
   ]
  },
  {
   "cell_type": "code",
   "execution_count": 135,
   "id": "d65889c7",
   "metadata": {
    "ExecuteTime": {
     "end_time": "2023-01-11T17:36:59.933412Z",
     "start_time": "2023-01-11T17:36:59.918159Z"
    }
   },
   "outputs": [
    {
     "data": {
      "text/plain": [
       "(1000, 3)"
      ]
     },
     "execution_count": 135,
     "metadata": {},
     "output_type": "execute_result"
    }
   ],
   "source": [
    "content_df.shape"
   ]
  },
  {
   "cell_type": "code",
   "execution_count": 136,
   "id": "639f1112",
   "metadata": {
    "ExecuteTime": {
     "end_time": "2023-01-11T17:37:43.952743Z",
     "start_time": "2023-01-11T17:37:43.928219Z"
    }
   },
   "outputs": [
    {
     "data": {
      "text/html": [
       "<div>\n",
       "<style scoped>\n",
       "    .dataframe tbody tr th:only-of-type {\n",
       "        vertical-align: middle;\n",
       "    }\n",
       "\n",
       "    .dataframe tbody tr th {\n",
       "        vertical-align: top;\n",
       "    }\n",
       "\n",
       "    .dataframe thead th {\n",
       "        text-align: right;\n",
       "    }\n",
       "</style>\n",
       "<table border=\"1\" class=\"dataframe\">\n",
       "  <thead>\n",
       "    <tr style=\"text-align: right;\">\n",
       "      <th></th>\n",
       "      <th>content_ID</th>\n",
       "      <th>reaction_type</th>\n",
       "      <th>year</th>\n",
       "      <th>month</th>\n",
       "      <th>day</th>\n",
       "      <th>time</th>\n",
       "    </tr>\n",
       "  </thead>\n",
       "  <tbody>\n",
       "    <tr>\n",
       "      <th>1</th>\n",
       "      <td>97522e57-d9ab-4bd6-97bf-c24d952602d2</td>\n",
       "      <td>disgust</td>\n",
       "      <td>2020</td>\n",
       "      <td>11</td>\n",
       "      <td>07</td>\n",
       "      <td>09:43:50</td>\n",
       "    </tr>\n",
       "    <tr>\n",
       "      <th>2</th>\n",
       "      <td>97522e57-d9ab-4bd6-97bf-c24d952602d2</td>\n",
       "      <td>dislike</td>\n",
       "      <td>2021</td>\n",
       "      <td>06</td>\n",
       "      <td>17</td>\n",
       "      <td>12:22:51</td>\n",
       "    </tr>\n",
       "    <tr>\n",
       "      <th>3</th>\n",
       "      <td>97522e57-d9ab-4bd6-97bf-c24d952602d2</td>\n",
       "      <td>scared</td>\n",
       "      <td>2021</td>\n",
       "      <td>04</td>\n",
       "      <td>18</td>\n",
       "      <td>05:13:58</td>\n",
       "    </tr>\n",
       "    <tr>\n",
       "      <th>4</th>\n",
       "      <td>97522e57-d9ab-4bd6-97bf-c24d952602d2</td>\n",
       "      <td>disgust</td>\n",
       "      <td>2021</td>\n",
       "      <td>01</td>\n",
       "      <td>06</td>\n",
       "      <td>19:13:01</td>\n",
       "    </tr>\n",
       "    <tr>\n",
       "      <th>5</th>\n",
       "      <td>97522e57-d9ab-4bd6-97bf-c24d952602d2</td>\n",
       "      <td>interested</td>\n",
       "      <td>2020</td>\n",
       "      <td>08</td>\n",
       "      <td>23</td>\n",
       "      <td>12:25:58</td>\n",
       "    </tr>\n",
       "  </tbody>\n",
       "</table>\n",
       "</div>"
      ],
      "text/plain": [
       "                             content_ID reaction_type  year month day  \\\n",
       "1  97522e57-d9ab-4bd6-97bf-c24d952602d2       disgust  2020    11  07   \n",
       "2  97522e57-d9ab-4bd6-97bf-c24d952602d2       dislike  2021    06  17   \n",
       "3  97522e57-d9ab-4bd6-97bf-c24d952602d2        scared  2021    04  18   \n",
       "4  97522e57-d9ab-4bd6-97bf-c24d952602d2       disgust  2021    01  06   \n",
       "5  97522e57-d9ab-4bd6-97bf-c24d952602d2    interested  2020    08  23   \n",
       "\n",
       "       time  \n",
       "1  09:43:50  \n",
       "2  12:22:51  \n",
       "3  05:13:58  \n",
       "4  19:13:01  \n",
       "5  12:25:58  "
      ]
     },
     "execution_count": 136,
     "metadata": {},
     "output_type": "execute_result"
    }
   ],
   "source": [
    "reactions_df.head()"
   ]
  },
  {
   "cell_type": "code",
   "execution_count": 137,
   "id": "1151045f",
   "metadata": {
    "ExecuteTime": {
     "end_time": "2023-01-11T17:41:35.943356Z",
     "start_time": "2023-01-11T17:41:35.886275Z"
    }
   },
   "outputs": [
    {
     "data": {
      "text/html": [
       "<div>\n",
       "<style scoped>\n",
       "    .dataframe tbody tr th:only-of-type {\n",
       "        vertical-align: middle;\n",
       "    }\n",
       "\n",
       "    .dataframe tbody tr th {\n",
       "        vertical-align: top;\n",
       "    }\n",
       "\n",
       "    .dataframe thead th {\n",
       "        text-align: right;\n",
       "    }\n",
       "</style>\n",
       "<table border=\"1\" class=\"dataframe\">\n",
       "  <thead>\n",
       "    <tr style=\"text-align: right;\">\n",
       "      <th></th>\n",
       "      <th>content_ID</th>\n",
       "      <th>reaction_type</th>\n",
       "      <th>year</th>\n",
       "      <th>month</th>\n",
       "      <th>day</th>\n",
       "      <th>time</th>\n",
       "      <th>content_type</th>\n",
       "      <th>content_category</th>\n",
       "    </tr>\n",
       "  </thead>\n",
       "  <tbody>\n",
       "    <tr>\n",
       "      <th>0</th>\n",
       "      <td>97522e57-d9ab-4bd6-97bf-c24d952602d2</td>\n",
       "      <td>disgust</td>\n",
       "      <td>2020</td>\n",
       "      <td>11</td>\n",
       "      <td>07</td>\n",
       "      <td>09:43:50</td>\n",
       "      <td>photo</td>\n",
       "      <td>studying</td>\n",
       "    </tr>\n",
       "    <tr>\n",
       "      <th>1</th>\n",
       "      <td>97522e57-d9ab-4bd6-97bf-c24d952602d2</td>\n",
       "      <td>dislike</td>\n",
       "      <td>2021</td>\n",
       "      <td>06</td>\n",
       "      <td>17</td>\n",
       "      <td>12:22:51</td>\n",
       "      <td>photo</td>\n",
       "      <td>studying</td>\n",
       "    </tr>\n",
       "    <tr>\n",
       "      <th>2</th>\n",
       "      <td>97522e57-d9ab-4bd6-97bf-c24d952602d2</td>\n",
       "      <td>scared</td>\n",
       "      <td>2021</td>\n",
       "      <td>04</td>\n",
       "      <td>18</td>\n",
       "      <td>05:13:58</td>\n",
       "      <td>photo</td>\n",
       "      <td>studying</td>\n",
       "    </tr>\n",
       "    <tr>\n",
       "      <th>3</th>\n",
       "      <td>97522e57-d9ab-4bd6-97bf-c24d952602d2</td>\n",
       "      <td>disgust</td>\n",
       "      <td>2021</td>\n",
       "      <td>01</td>\n",
       "      <td>06</td>\n",
       "      <td>19:13:01</td>\n",
       "      <td>photo</td>\n",
       "      <td>studying</td>\n",
       "    </tr>\n",
       "    <tr>\n",
       "      <th>4</th>\n",
       "      <td>97522e57-d9ab-4bd6-97bf-c24d952602d2</td>\n",
       "      <td>interested</td>\n",
       "      <td>2020</td>\n",
       "      <td>08</td>\n",
       "      <td>23</td>\n",
       "      <td>12:25:58</td>\n",
       "      <td>photo</td>\n",
       "      <td>studying</td>\n",
       "    </tr>\n",
       "    <tr>\n",
       "      <th>...</th>\n",
       "      <td>...</td>\n",
       "      <td>...</td>\n",
       "      <td>...</td>\n",
       "      <td>...</td>\n",
       "      <td>...</td>\n",
       "      <td>...</td>\n",
       "      <td>...</td>\n",
       "      <td>...</td>\n",
       "    </tr>\n",
       "    <tr>\n",
       "      <th>24568</th>\n",
       "      <td>75d6b589-7fae-4a6d-b0d0-752845150e56</td>\n",
       "      <td>dislike</td>\n",
       "      <td>2020</td>\n",
       "      <td>06</td>\n",
       "      <td>27</td>\n",
       "      <td>09:46:48</td>\n",
       "      <td>audio</td>\n",
       "      <td>technology</td>\n",
       "    </tr>\n",
       "    <tr>\n",
       "      <th>24569</th>\n",
       "      <td>75d6b589-7fae-4a6d-b0d0-752845150e56</td>\n",
       "      <td>intrigued</td>\n",
       "      <td>2021</td>\n",
       "      <td>02</td>\n",
       "      <td>16</td>\n",
       "      <td>17:17:02</td>\n",
       "      <td>audio</td>\n",
       "      <td>technology</td>\n",
       "    </tr>\n",
       "    <tr>\n",
       "      <th>24570</th>\n",
       "      <td>75d6b589-7fae-4a6d-b0d0-752845150e56</td>\n",
       "      <td>interested</td>\n",
       "      <td>2020</td>\n",
       "      <td>09</td>\n",
       "      <td>12</td>\n",
       "      <td>03:54:58</td>\n",
       "      <td>audio</td>\n",
       "      <td>technology</td>\n",
       "    </tr>\n",
       "    <tr>\n",
       "      <th>24571</th>\n",
       "      <td>75d6b589-7fae-4a6d-b0d0-752845150e56</td>\n",
       "      <td>worried</td>\n",
       "      <td>2020</td>\n",
       "      <td>11</td>\n",
       "      <td>04</td>\n",
       "      <td>20:08:31</td>\n",
       "      <td>audio</td>\n",
       "      <td>technology</td>\n",
       "    </tr>\n",
       "    <tr>\n",
       "      <th>24572</th>\n",
       "      <td>75d6b589-7fae-4a6d-b0d0-752845150e56</td>\n",
       "      <td>cherish</td>\n",
       "      <td>2021</td>\n",
       "      <td>01</td>\n",
       "      <td>04</td>\n",
       "      <td>04:55:11</td>\n",
       "      <td>audio</td>\n",
       "      <td>technology</td>\n",
       "    </tr>\n",
       "  </tbody>\n",
       "</table>\n",
       "<p>24573 rows × 8 columns</p>\n",
       "</div>"
      ],
      "text/plain": [
       "                                 content_ID reaction_type  year month day  \\\n",
       "0      97522e57-d9ab-4bd6-97bf-c24d952602d2       disgust  2020    11  07   \n",
       "1      97522e57-d9ab-4bd6-97bf-c24d952602d2       dislike  2021    06  17   \n",
       "2      97522e57-d9ab-4bd6-97bf-c24d952602d2        scared  2021    04  18   \n",
       "3      97522e57-d9ab-4bd6-97bf-c24d952602d2       disgust  2021    01  06   \n",
       "4      97522e57-d9ab-4bd6-97bf-c24d952602d2    interested  2020    08  23   \n",
       "...                                     ...           ...   ...   ...  ..   \n",
       "24568  75d6b589-7fae-4a6d-b0d0-752845150e56       dislike  2020    06  27   \n",
       "24569  75d6b589-7fae-4a6d-b0d0-752845150e56     intrigued  2021    02  16   \n",
       "24570  75d6b589-7fae-4a6d-b0d0-752845150e56    interested  2020    09  12   \n",
       "24571  75d6b589-7fae-4a6d-b0d0-752845150e56       worried  2020    11  04   \n",
       "24572  75d6b589-7fae-4a6d-b0d0-752845150e56       cherish  2021    01  04   \n",
       "\n",
       "           time content_type content_category  \n",
       "0      09:43:50        photo         studying  \n",
       "1      12:22:51        photo         studying  \n",
       "2      05:13:58        photo         studying  \n",
       "3      19:13:01        photo         studying  \n",
       "4      12:25:58        photo         studying  \n",
       "...         ...          ...              ...  \n",
       "24568  09:46:48        audio       technology  \n",
       "24569  17:17:02        audio       technology  \n",
       "24570  03:54:58        audio       technology  \n",
       "24571  20:08:31        audio       technology  \n",
       "24572  04:55:11        audio       technology  \n",
       "\n",
       "[24573 rows x 8 columns]"
      ]
     },
     "execution_count": 137,
     "metadata": {},
     "output_type": "execute_result"
    }
   ],
   "source": [
    "merged_df = reactions_df.merge(content_df, how='left', left_on='content_ID', right_on='content_ID')\n",
    "merged_df"
   ]
  },
  {
   "cell_type": "code",
   "execution_count": 139,
   "id": "149c8dc6",
   "metadata": {
    "ExecuteTime": {
     "end_time": "2023-01-11T17:41:51.833345Z",
     "start_time": "2023-01-11T17:41:51.778879Z"
    }
   },
   "outputs": [
    {
     "data": {
      "text/plain": [
       "content_ID  reaction_type  year   month  day    time   content_type  content_category\n",
       "False       False          False  False  False  False  False         False               24573\n",
       "dtype: int64"
      ]
     },
     "execution_count": 139,
     "metadata": {},
     "output_type": "execute_result"
    }
   ],
   "source": [
    "merged_df.isnull().value_counts()"
   ]
  },
  {
   "cell_type": "code",
   "execution_count": 140,
   "id": "42502d6d",
   "metadata": {
    "ExecuteTime": {
     "end_time": "2023-01-11T17:43:04.073629Z",
     "start_time": "2023-01-11T17:43:04.045788Z"
    }
   },
   "outputs": [
    {
     "data": {
      "text/html": [
       "<div>\n",
       "<style scoped>\n",
       "    .dataframe tbody tr th:only-of-type {\n",
       "        vertical-align: middle;\n",
       "    }\n",
       "\n",
       "    .dataframe tbody tr th {\n",
       "        vertical-align: top;\n",
       "    }\n",
       "\n",
       "    .dataframe thead th {\n",
       "        text-align: right;\n",
       "    }\n",
       "</style>\n",
       "<table border=\"1\" class=\"dataframe\">\n",
       "  <thead>\n",
       "    <tr style=\"text-align: right;\">\n",
       "      <th></th>\n",
       "      <th>reaction_type</th>\n",
       "      <th>sentiment</th>\n",
       "      <th>reaction_score</th>\n",
       "    </tr>\n",
       "  </thead>\n",
       "  <tbody>\n",
       "    <tr>\n",
       "      <th>0</th>\n",
       "      <td>heart</td>\n",
       "      <td>positive</td>\n",
       "      <td>60</td>\n",
       "    </tr>\n",
       "    <tr>\n",
       "      <th>1</th>\n",
       "      <td>want</td>\n",
       "      <td>positive</td>\n",
       "      <td>70</td>\n",
       "    </tr>\n",
       "    <tr>\n",
       "      <th>2</th>\n",
       "      <td>disgust</td>\n",
       "      <td>negative</td>\n",
       "      <td>0</td>\n",
       "    </tr>\n",
       "    <tr>\n",
       "      <th>3</th>\n",
       "      <td>hate</td>\n",
       "      <td>negative</td>\n",
       "      <td>5</td>\n",
       "    </tr>\n",
       "    <tr>\n",
       "      <th>4</th>\n",
       "      <td>interested</td>\n",
       "      <td>positive</td>\n",
       "      <td>30</td>\n",
       "    </tr>\n",
       "  </tbody>\n",
       "</table>\n",
       "</div>"
      ],
      "text/plain": [
       "  reaction_type sentiment  reaction_score\n",
       "0         heart  positive              60\n",
       "1          want  positive              70\n",
       "2       disgust  negative               0\n",
       "3          hate  negative               5\n",
       "4    interested  positive              30"
      ]
     },
     "execution_count": 140,
     "metadata": {},
     "output_type": "execute_result"
    }
   ],
   "source": [
    "reaction_types_df.head()"
   ]
  },
  {
   "cell_type": "code",
   "execution_count": 141,
   "id": "94f83646",
   "metadata": {
    "ExecuteTime": {
     "end_time": "2023-01-11T17:43:26.803370Z",
     "start_time": "2023-01-11T17:43:26.755615Z"
    }
   },
   "outputs": [
    {
     "data": {
      "text/html": [
       "<div>\n",
       "<style scoped>\n",
       "    .dataframe tbody tr th:only-of-type {\n",
       "        vertical-align: middle;\n",
       "    }\n",
       "\n",
       "    .dataframe tbody tr th {\n",
       "        vertical-align: top;\n",
       "    }\n",
       "\n",
       "    .dataframe thead th {\n",
       "        text-align: right;\n",
       "    }\n",
       "</style>\n",
       "<table border=\"1\" class=\"dataframe\">\n",
       "  <thead>\n",
       "    <tr style=\"text-align: right;\">\n",
       "      <th></th>\n",
       "      <th>content_ID</th>\n",
       "      <th>reaction_type</th>\n",
       "      <th>year</th>\n",
       "      <th>month</th>\n",
       "      <th>day</th>\n",
       "      <th>time</th>\n",
       "      <th>content_type</th>\n",
       "      <th>content_category</th>\n",
       "      <th>sentiment</th>\n",
       "      <th>reaction_score</th>\n",
       "    </tr>\n",
       "  </thead>\n",
       "  <tbody>\n",
       "    <tr>\n",
       "      <th>0</th>\n",
       "      <td>97522e57-d9ab-4bd6-97bf-c24d952602d2</td>\n",
       "      <td>disgust</td>\n",
       "      <td>2020</td>\n",
       "      <td>11</td>\n",
       "      <td>07</td>\n",
       "      <td>09:43:50</td>\n",
       "      <td>photo</td>\n",
       "      <td>studying</td>\n",
       "      <td>negative</td>\n",
       "      <td>0</td>\n",
       "    </tr>\n",
       "    <tr>\n",
       "      <th>1</th>\n",
       "      <td>97522e57-d9ab-4bd6-97bf-c24d952602d2</td>\n",
       "      <td>dislike</td>\n",
       "      <td>2021</td>\n",
       "      <td>06</td>\n",
       "      <td>17</td>\n",
       "      <td>12:22:51</td>\n",
       "      <td>photo</td>\n",
       "      <td>studying</td>\n",
       "      <td>negative</td>\n",
       "      <td>10</td>\n",
       "    </tr>\n",
       "    <tr>\n",
       "      <th>2</th>\n",
       "      <td>97522e57-d9ab-4bd6-97bf-c24d952602d2</td>\n",
       "      <td>scared</td>\n",
       "      <td>2021</td>\n",
       "      <td>04</td>\n",
       "      <td>18</td>\n",
       "      <td>05:13:58</td>\n",
       "      <td>photo</td>\n",
       "      <td>studying</td>\n",
       "      <td>negative</td>\n",
       "      <td>15</td>\n",
       "    </tr>\n",
       "    <tr>\n",
       "      <th>3</th>\n",
       "      <td>97522e57-d9ab-4bd6-97bf-c24d952602d2</td>\n",
       "      <td>disgust</td>\n",
       "      <td>2021</td>\n",
       "      <td>01</td>\n",
       "      <td>06</td>\n",
       "      <td>19:13:01</td>\n",
       "      <td>photo</td>\n",
       "      <td>studying</td>\n",
       "      <td>negative</td>\n",
       "      <td>0</td>\n",
       "    </tr>\n",
       "    <tr>\n",
       "      <th>4</th>\n",
       "      <td>97522e57-d9ab-4bd6-97bf-c24d952602d2</td>\n",
       "      <td>interested</td>\n",
       "      <td>2020</td>\n",
       "      <td>08</td>\n",
       "      <td>23</td>\n",
       "      <td>12:25:58</td>\n",
       "      <td>photo</td>\n",
       "      <td>studying</td>\n",
       "      <td>positive</td>\n",
       "      <td>30</td>\n",
       "    </tr>\n",
       "    <tr>\n",
       "      <th>...</th>\n",
       "      <td>...</td>\n",
       "      <td>...</td>\n",
       "      <td>...</td>\n",
       "      <td>...</td>\n",
       "      <td>...</td>\n",
       "      <td>...</td>\n",
       "      <td>...</td>\n",
       "      <td>...</td>\n",
       "      <td>...</td>\n",
       "      <td>...</td>\n",
       "    </tr>\n",
       "    <tr>\n",
       "      <th>24568</th>\n",
       "      <td>75d6b589-7fae-4a6d-b0d0-752845150e56</td>\n",
       "      <td>dislike</td>\n",
       "      <td>2020</td>\n",
       "      <td>06</td>\n",
       "      <td>27</td>\n",
       "      <td>09:46:48</td>\n",
       "      <td>audio</td>\n",
       "      <td>technology</td>\n",
       "      <td>negative</td>\n",
       "      <td>10</td>\n",
       "    </tr>\n",
       "    <tr>\n",
       "      <th>24569</th>\n",
       "      <td>75d6b589-7fae-4a6d-b0d0-752845150e56</td>\n",
       "      <td>intrigued</td>\n",
       "      <td>2021</td>\n",
       "      <td>02</td>\n",
       "      <td>16</td>\n",
       "      <td>17:17:02</td>\n",
       "      <td>audio</td>\n",
       "      <td>technology</td>\n",
       "      <td>positive</td>\n",
       "      <td>45</td>\n",
       "    </tr>\n",
       "    <tr>\n",
       "      <th>24570</th>\n",
       "      <td>75d6b589-7fae-4a6d-b0d0-752845150e56</td>\n",
       "      <td>interested</td>\n",
       "      <td>2020</td>\n",
       "      <td>09</td>\n",
       "      <td>12</td>\n",
       "      <td>03:54:58</td>\n",
       "      <td>audio</td>\n",
       "      <td>technology</td>\n",
       "      <td>positive</td>\n",
       "      <td>30</td>\n",
       "    </tr>\n",
       "    <tr>\n",
       "      <th>24571</th>\n",
       "      <td>75d6b589-7fae-4a6d-b0d0-752845150e56</td>\n",
       "      <td>worried</td>\n",
       "      <td>2020</td>\n",
       "      <td>11</td>\n",
       "      <td>04</td>\n",
       "      <td>20:08:31</td>\n",
       "      <td>audio</td>\n",
       "      <td>technology</td>\n",
       "      <td>negative</td>\n",
       "      <td>12</td>\n",
       "    </tr>\n",
       "    <tr>\n",
       "      <th>24572</th>\n",
       "      <td>75d6b589-7fae-4a6d-b0d0-752845150e56</td>\n",
       "      <td>cherish</td>\n",
       "      <td>2021</td>\n",
       "      <td>01</td>\n",
       "      <td>04</td>\n",
       "      <td>04:55:11</td>\n",
       "      <td>audio</td>\n",
       "      <td>technology</td>\n",
       "      <td>positive</td>\n",
       "      <td>70</td>\n",
       "    </tr>\n",
       "  </tbody>\n",
       "</table>\n",
       "<p>24573 rows × 10 columns</p>\n",
       "</div>"
      ],
      "text/plain": [
       "                                 content_ID reaction_type  year month day  \\\n",
       "0      97522e57-d9ab-4bd6-97bf-c24d952602d2       disgust  2020    11  07   \n",
       "1      97522e57-d9ab-4bd6-97bf-c24d952602d2       dislike  2021    06  17   \n",
       "2      97522e57-d9ab-4bd6-97bf-c24d952602d2        scared  2021    04  18   \n",
       "3      97522e57-d9ab-4bd6-97bf-c24d952602d2       disgust  2021    01  06   \n",
       "4      97522e57-d9ab-4bd6-97bf-c24d952602d2    interested  2020    08  23   \n",
       "...                                     ...           ...   ...   ...  ..   \n",
       "24568  75d6b589-7fae-4a6d-b0d0-752845150e56       dislike  2020    06  27   \n",
       "24569  75d6b589-7fae-4a6d-b0d0-752845150e56     intrigued  2021    02  16   \n",
       "24570  75d6b589-7fae-4a6d-b0d0-752845150e56    interested  2020    09  12   \n",
       "24571  75d6b589-7fae-4a6d-b0d0-752845150e56       worried  2020    11  04   \n",
       "24572  75d6b589-7fae-4a6d-b0d0-752845150e56       cherish  2021    01  04   \n",
       "\n",
       "           time content_type content_category sentiment  reaction_score  \n",
       "0      09:43:50        photo         studying  negative               0  \n",
       "1      12:22:51        photo         studying  negative              10  \n",
       "2      05:13:58        photo         studying  negative              15  \n",
       "3      19:13:01        photo         studying  negative               0  \n",
       "4      12:25:58        photo         studying  positive              30  \n",
       "...         ...          ...              ...       ...             ...  \n",
       "24568  09:46:48        audio       technology  negative              10  \n",
       "24569  17:17:02        audio       technology  positive              45  \n",
       "24570  03:54:58        audio       technology  positive              30  \n",
       "24571  20:08:31        audio       technology  negative              12  \n",
       "24572  04:55:11        audio       technology  positive              70  \n",
       "\n",
       "[24573 rows x 10 columns]"
      ]
     },
     "execution_count": 141,
     "metadata": {},
     "output_type": "execute_result"
    }
   ],
   "source": [
    "clean_df = merged_df.merge(reaction_types_df, how='left', left_on='reaction_type', right_on='reaction_type')\n",
    "clean_df"
   ]
  },
  {
   "cell_type": "code",
   "execution_count": 143,
   "id": "1be27199",
   "metadata": {
    "ExecuteTime": {
     "end_time": "2023-01-11T17:43:42.910437Z",
     "start_time": "2023-01-11T17:43:42.877702Z"
    }
   },
   "outputs": [
    {
     "data": {
      "text/plain": [
       "content_ID          0\n",
       "reaction_type       0\n",
       "year                0\n",
       "month               0\n",
       "day                 0\n",
       "time                0\n",
       "content_type        0\n",
       "content_category    0\n",
       "sentiment           0\n",
       "reaction_score      0\n",
       "dtype: int64"
      ]
     },
     "execution_count": 143,
     "metadata": {},
     "output_type": "execute_result"
    }
   ],
   "source": [
    "clean_df.isnull().sum()"
   ]
  },
  {
   "cell_type": "code",
   "execution_count": 146,
   "id": "3202ec82",
   "metadata": {
    "ExecuteTime": {
     "end_time": "2023-01-11T18:10:17.694421Z",
     "start_time": "2023-01-11T18:10:17.514100Z"
    }
   },
   "outputs": [],
   "source": [
    "clean_df.to_csv('social_buzz_clean_df.csv',index=False)"
   ]
  },
  {
   "cell_type": "code",
   "execution_count": null,
   "id": "58323e76",
   "metadata": {},
   "outputs": [],
   "source": []
  }
 ],
 "metadata": {
  "kernelspec": {
   "display_name": "Python 3 (ipykernel)",
   "language": "python",
   "name": "python3"
  },
  "language_info": {
   "codemirror_mode": {
    "name": "ipython",
    "version": 3
   },
   "file_extension": ".py",
   "mimetype": "text/x-python",
   "name": "python",
   "nbconvert_exporter": "python",
   "pygments_lexer": "ipython3",
   "version": "3.9.13"
  },
  "toc": {
   "base_numbering": 1,
   "nav_menu": {},
   "number_sections": true,
   "sideBar": true,
   "skip_h1_title": false,
   "title_cell": "Table of Contents",
   "title_sidebar": "Contents",
   "toc_cell": false,
   "toc_position": {},
   "toc_section_display": true,
   "toc_window_display": false
  },
  "varInspector": {
   "cols": {
    "lenName": 16,
    "lenType": 16,
    "lenVar": 40
   },
   "kernels_config": {
    "python": {
     "delete_cmd_postfix": "",
     "delete_cmd_prefix": "del ",
     "library": "var_list.py",
     "varRefreshCmd": "print(var_dic_list())"
    },
    "r": {
     "delete_cmd_postfix": ") ",
     "delete_cmd_prefix": "rm(",
     "library": "var_list.r",
     "varRefreshCmd": "cat(var_dic_list()) "
    }
   },
   "types_to_exclude": [
    "module",
    "function",
    "builtin_function_or_method",
    "instance",
    "_Feature"
   ],
   "window_display": false
  }
 },
 "nbformat": 4,
 "nbformat_minor": 5
}
